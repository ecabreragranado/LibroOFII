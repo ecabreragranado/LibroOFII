{
 "cells": [
  {
   "cell_type": "markdown",
   "metadata": {
    "collapsed": false
   },
   "source": [
    "### **Escribir a continuacion el Nombre y Apellidos del Responsable del Grupo de Trabajo.**\n",
    "\n",
    "Nota: El nombre y los apellidos **deben ir entre las comillas simples** \n"
   ]
  },
  {
   "cell_type": "code",
   "execution_count": 0,
   "metadata": {
    "collapsed": true
   },
   "outputs": [
   ],
   "source": [
    "#Responsable\n",
    "Nombre = 'dñlkfjdñalsf'\n",
    "Apellidos = 'dfadsfas'"
   ]
  },
  {
   "cell_type": "markdown",
   "metadata": {
    "collapsed": false
   },
   "source": [
    "### Nombre y Apellidos del resto de integrantes del grupo \n",
    "\n",
    "(Pincha dos veces en esta celda para editarla)\n",
    "---------------\n",
    "\n",
    "**Nombre y Apellidos**:fdfjldkajf asdkfjñaldksjf\n",
    "\n",
    "**Nombre y Apellidos**:\n",
    "\n",
    "**Nombre y Apellidos**:\n",
    "\n",
    "------------------\n"
   ]
  },
  {
   "cell_type": "code",
   "execution_count": 1,
   "metadata": {
    "collapsed": false
   },
   "outputs": [
    {
     "ename": "ModuleNotFoundError",
     "evalue": "No module named 'testsbiprisma'",
     "output_type": "error",
     "traceback": [
      "\u001b[0;31m---------------------------------------------------------------------------\u001b[0m",
      "\u001b[0;31mModuleNotFoundError\u001b[0m                       Traceback (most recent call last)",
      "\u001b[0;32m<ipython-input-1-a6e0edf80e4b>\u001b[0m in \u001b[0;36m<module>\u001b[0;34m\u001b[0m\n\u001b[1;32m      1\u001b[0m \u001b[0;31m# No ejecutar\u001b[0m\u001b[0;34m\u001b[0m\u001b[0;34m\u001b[0m\u001b[0;34m\u001b[0m\u001b[0m\n\u001b[0;32m----> 2\u001b[0;31m \u001b[0;32mimport\u001b[0m \u001b[0mtestsbiprisma\u001b[0m \u001b[0;32mas\u001b[0m \u001b[0mtests\u001b[0m\u001b[0;34m\u001b[0m\u001b[0;34m\u001b[0m\u001b[0m\n\u001b[0m\u001b[1;32m      3\u001b[0m \u001b[0mgrades\u001b[0m \u001b[0;34m=\u001b[0m \u001b[0;36m0\u001b[0m\u001b[0;34m\u001b[0m\u001b[0;34m\u001b[0m\u001b[0m\n",
      "\u001b[0;31mModuleNotFoundError\u001b[0m: No module named 'testsbiprisma'"
     ]
    }
   ],
   "source": [
    "# No ejecutar\n",
    "import testsbiprisma as tests\n",
    "grades = 0"
   ]
  },
  {
   "cell_type": "markdown",
   "metadata": {
    "collapsed": false
   },
   "source": [
    "# Experimento de Young.\n",
    "\n",
    "## 1. Objetivos\n",
    "\n",
    "* Observación del diagrama interferencial producido por un biprisma de Fresnel.\n",
    "\n",
    "* Determinación de la longitud de onda de la fuente láser empleada."
   ]
  },
  {
   "cell_type": "markdown",
   "metadata": {
    "collapsed": false
   },
   "source": [
    "## 2. Biprisma de Fresnel\n",
    "\n",
    "Hay diferentes dispositivos que son equivalentes al sistema de dos rendijas originariamente empleado por Thomas Young. Aqui vamos a considerar el dispositivo llamado **biprisma de Fresnel**, el cual nos permitirá variar fácilmente la separación entre las rendijas o fuentes secundarias.\n",
    "\n",
    "En la figura siguiente se muestra cómo el biprisma produce dos fuentes  secundarias de radiación equivalentes a las dos rendijas del dispositivo de Young. La luz que emerge por la parte superior del biprisma lo hace tal como si procediera de $S_1$, mientras que la parte del haz refractada por la parte inferior del biprisma se propaga como si procediera de $S_2$. Por lo tanto, a la derecha del biprisma tenemos la superposición de dos ondas esféricas procedentes de $S_1$ y $S_2$, respectivamente. El plano donde se encuentran estas fuentes virtuales es equivalente al plano de las rendijas en el experimento de Young. Además este plano coincide con la posición de la fuente real  $S$.\n",
    "\n",
    "![biprisma](Biprisma1.jpg)\n",
    "\n",
    "## 3. Medida de la longitud de onda de emisión de un Láser de He-Ne con ayuda de un biprisma de Fresnel.\n",
    "\n",
    "El dispositivo experimental con el que vamos a trabajar consiste en un láser de He-Ne, un objetivo de microscopio, un biprisma y una pantalla de observación situada al final del banco óptico. La luz procedente del láser se hace incidir sobre el objetivo de microscopio, $OM$, cuya función consiste en focalizar el haz de luz y obtener así una fuente casi puntual, $S$, como se muestra en la figura.\n",
    "\n",
    "![biprisma2](Biprisma2.jpg)\n"
   ]
  },
  {
   "cell_type": "markdown",
   "metadata": {
    "collapsed": false
   },
   "source": [
    "Nuestro objetivo es hallar la longitud de onda $\\lambda$ de la radiacion que ilumina el Biprisma de Fresnel utilizando la expresion de la interfranja,\n",
    "\n",
    "$$Int = \\frac{\\lambda D}{a} \\Rightarrow \\lambda = \\frac{Int \\; a}{D}$$\n",
    "\n",
    "siendo $D$ la distancia entre el plano que contiene a la doble rendija y la pantalla de observación, y $a$ la separación entre las dos rendijas. Para ello, primero mediremos la interfranja del patrón de interferencias generado cuando iluminamos con una fuente puntual el Biprisma de Fresnel para una distancia de trabajo $D$. A continuación, mediremos el valor de la separacion entre las fuentes virtuales $a$ y utilizaremos la anterior expresion para obtener $\\lambda$.\n",
    "\n",
    "------------\n",
    "\n",
    "Al ejecutar la siguiente celda de código se presenta a la izquierda un esquema del montaje experimental: fuente puntual, biprisma de Fresnel (en rojo) y pantalla donde se visualizan las franjas de interferencia producidas por el biprisma. La distancia entre la fuente puntual y al pantalla está fijada a una valor de 1 m. La distancia entre la fuente y el biprisma puede ser modificada moviendo el desplazador que se muestra justo encima del esquema. A la derecha, se muestra el patrón de interferencias (completo y una imagen ampliada de 6 mm de longitud en la zona central del patrón), y el valor de la interfranja para la distancia fuente-biprisma selecionada. Moviendo el desplazador, se puede observar como cambia el patrón y el valor de la interfranja asociado."
   ]
  },
  {
   "cell_type": "markdown",
   "metadata": {
    "collapsed": false
   },
   "source": [
    "<font color='blue'> Recordatorio: Para ejecutar una celda de código y mostrar las simulaciones, se ha de seleccionar dicha celda y presionar el botón de *Run* que se encuentra en la parte superior del documento, o bien presionar a la vez *Mayúsculas + Enter*"
   ]
  },
  {
   "cell_type": "code",
   "execution_count": 1,
   "metadata": {
    "collapsed": false
   },
   "outputs": [
    {
     "data": {
      "application/vnd.jupyter.widget-view+json": {
       "model_id": "4560b5a1ba694116aa0053c4cc6c9d6c",
       "version_major": 2,
       "version_minor": 0
      },
      "text/plain": [
       "interactive(children=(FloatSlider(value=0.3, description='Fuente-Biprisma (m)', max=0.35, min=0.08, step=0.02)…"
      ]
     },
     "execution_count": 1,
     "metadata": {
     },
     "output_type": "execute_result"
    },
    {
     "data": {
      "application/vnd.jupyter.widget-view+json": {
       "model_id": "17033752cb26419a84e02915230dfa83",
       "version_major": 2,
       "version_minor": 0
      },
      "text/plain": [
       "HBox(children=(HBox(children=(HTML(value=\"<img src='data:image/png;base64,iVBORw0KGgoAAAANSUhEUgAAAfgAAAFoCAYA…"
      ]
     },
     "execution_count": 1,
     "metadata": {
     },
     "output_type": "execute_result"
    },
    {
     "data": {
      "text/plain": [
       "<Figure size 432x288 with 0 Axes>"
      ]
     },
     "execution_count": 1,
     "metadata": {
     },
     "output_type": "execute_result"
    }
   ],
   "source": [
    "%matplotlib inline\n",
    "\n",
    "%run Biprisma_parte1.py"
   ]
  },
  {
   "cell_type": "markdown",
   "metadata": {
    "collapsed": false
   },
   "source": [
    "* Mueve el desplazador hasta encontrar una posición del biprisma en la que la interfranja sea aproximadamente igual a 0.5 mm. Anota el valor de la interfranja (en mm) y de la distancia fuente-biprisma (en m) seleccionados en la celda que aparece a continuación."
   ]
  },
  {
   "cell_type": "code",
   "execution_count": 5,
   "metadata": {
    "collapsed": false
   },
   "outputs": [
   ],
   "source": [
    "# Escribe el valor de la interfranja y de la distancia fuente-biprisma obtenidos a continuación:\n",
    "Interfranja =  # en mm\n",
    "Dist_fuente_biprisma = # en m"
   ]
  },
  {
   "cell_type": "code",
   "execution_count": 4,
   "metadata": {
    "collapsed": false
   },
   "outputs": [
    {
     "ename": "NameError",
     "evalue": "name 'tests' is not defined",
     "output_type": "error",
     "traceback": [
      "\u001b[0;31m---------------------------------------------------------------------------\u001b[0m",
      "\u001b[0;31mNameError\u001b[0m                                 Traceback (most recent call last)",
      "\u001b[0;32m<ipython-input-4-5a45ff72cd8e>\u001b[0m in \u001b[0;36m<module>\u001b[0;34m()\u001b[0m\n\u001b[1;32m      1\u001b[0m \u001b[0;31m#No ejecutar\u001b[0m\u001b[0;34m\u001b[0m\u001b[0;34m\u001b[0m\u001b[0;34m\u001b[0m\u001b[0m\n\u001b[0;32m----> 2\u001b[0;31m \u001b[0mgrades\u001b[0m \u001b[0;34m=\u001b[0m \u001b[0mtests\u001b[0m\u001b[0;34m.\u001b[0m\u001b[0mtest1\u001b[0m\u001b[0;34m(\u001b[0m\u001b[0mInterfranja\u001b[0m\u001b[0;34m,\u001b[0m \u001b[0mDist_fuente_biprisma\u001b[0m\u001b[0;34m,\u001b[0m\u001b[0mgrades\u001b[0m\u001b[0;34m)\u001b[0m\u001b[0;34m\u001b[0m\u001b[0;34m\u001b[0m\u001b[0m\n\u001b[0m",
      "\u001b[0;31mNameError\u001b[0m: name 'tests' is not defined"
     ]
    }
   ],
   "source": [
    "#No ejecutar\n",
    "grades = tests.test1(Interfranja, Dist_fuente_biprisma,grades)"
   ]
  },
  {
   "cell_type": "markdown",
   "metadata": {
    "collapsed": false
   },
   "source": [
    "Para medir la separacion entre las dos fuentes virtuales creadas por el biprisma colocamos una lente convergente después del biprisma. Esta lente formará una imagen real de las fuentes virtuales. La figura siguiente muestra el montaje que se llevaría a cabo en el laboratorio.\n",
    "\n",
    "![biprisma4](Biprisma4.jpg)\n",
    "\n",
    "En la siguiente simulación, se plantea esta situación (ejecutar la siguiente celda de código). La figura a la izquierda reproduce el montaje experimental, pudiendo utilizar el desplazador para mover la posición de la lente. La figura de la derecha muestra lo que se vería en la pantalla. Cuando la lente se encuentre en su posición correcta, se formará la imagen de las dos fuentes virtuales en la pantalla. En la simulación, aparecerán los dos puntos más definidos y más pequeños. Finalmente, también se muestra el valor de la separación entre esas imagenes virtuales $a'$.\n",
    "\n",
    "Se propone por tanto mover la lente hasta que las imágenes se vean lo más nítidas posibles, lo que nos permitirá obtener los parámetros que nos faltan para calcular la longitud de onda $\\lambda$."
   ]
  },
  {
   "cell_type": "code",
   "execution_count": 6,
   "metadata": {
    "collapsed": false
   },
   "outputs": [
    {
     "data": {
      "application/vnd.jupyter.widget-view+json": {
       "model_id": "aaceacfeb2b344eeb9f8f298f496490f",
       "version_major": 2,
       "version_minor": 0
      },
      "text/plain": [
       "interactive(children=(FloatSlider(value=0.4, description='Dist Fuente-Lente', max=0.42, min=0.22, step=0.01), …"
      ]
     },
     "execution_count": 6,
     "metadata": {
     },
     "output_type": "execute_result"
    },
    {
     "data": {
      "application/vnd.jupyter.widget-view+json": {
       "model_id": "a372a1089af14a929bd7e7671c422f33",
       "version_major": 2,
       "version_minor": 0
      },
      "text/plain": [
       "HBox(children=(HBox(children=(HTML(value=\"<img src='data:image/png;base64,iVBORw0KGgoAAAANSUhEUgAAAfgAAAFoCAYA…"
      ]
     },
     "execution_count": 6,
     "metadata": {
     },
     "output_type": "execute_result"
    }
   ],
   "source": [
    "from Biprisma_parte2 import parte2\n",
    "parte2(Dist_fuente_biprisma,alpha,D,n,yrepres,y0)"
   ]
  },
  {
   "cell_type": "markdown",
   "metadata": {
    "collapsed": true
   },
   "source": [
    "* Anota el valor de la separación entre las imágenes de las fuentes virtuales que aparecen en la anterior gráfica (en mm)."
   ]
  },
  {
   "cell_type": "code",
   "execution_count": 0,
   "metadata": {
    "collapsed": false
   },
   "outputs": [
   ],
   "source": [
    "a_prima = # en mm"
   ]
  },
  {
   "cell_type": "code",
   "execution_count": 0,
   "metadata": {
    "collapsed": false
   },
   "outputs": [
   ],
   "source": [
    "# No ejecutar esta celda\n",
    "grades = tests.test2(a_prima,grades)"
   ]
  },
  {
   "cell_type": "markdown",
   "metadata": {
    "collapsed": false
   },
   "source": [
    "* Calcula, utilizando el valor del aumento dado por la lente convergente el valor de la separación entre las fuentes virtuales generadas por el biprisma. Anotar en la celda siguiente el valor de la distancia fuente-lente $s$ en metros, de la lente-pantalla $s'$ (en m) y del valor calculado de $a$ (en mm). \n",
    "\n",
    "*Nota: El valor de la distancia fuente-pantalla es igual a 1 m*"
   ]
  },
  {
   "cell_type": "code",
   "execution_count": 0,
   "metadata": {
    "collapsed": false
   },
   "outputs": [
   ],
   "source": [
    "s =  # en m\n",
    "s_prima =   # en m\n",
    "a =  # en mm"
   ]
  },
  {
   "cell_type": "code",
   "execution_count": 0,
   "metadata": {
    "collapsed": false
   },
   "outputs": [
   ],
   "source": [
    "#No ejecutar\n",
    "grades = tests.test3(s, s_prima,a,alpha,n,Dist_fuente_biprisma,grades)"
   ]
  },
  {
   "cell_type": "markdown",
   "metadata": {
    "collapsed": false
   },
   "source": [
    "* Finalmente, obtener el valor de la longitud de onda $\\lambda$ utilizando los valores obtenidos en los anteriores apartados. Anotar el valor obtenido en la siguiente celda (en nm)"
   ]
  },
  {
   "cell_type": "code",
   "execution_count": 0,
   "metadata": {
    "collapsed": true
   },
   "outputs": [
   ],
   "source": [
    "long_de_onda = # en nm"
   ]
  },
  {
   "cell_type": "code",
   "execution_count": 0,
   "metadata": {
    "collapsed": true
   },
   "outputs": [
   ],
   "source": [
    "#No ejecutar\n",
    "grades = tests.test4(long_de_onda,grades)"
   ]
  },
  {
   "cell_type": "code",
   "execution_count": 0,
   "metadata": {
    "collapsed": true
   },
   "outputs": [
   ],
   "source": [
    "tests.final_grade(grades, Nombre, Apellidos)"
   ]
  }
 ],
 "metadata": {
  "kernelspec": {
   "display_name": "Python 3 (system-wide)",
   "language": "python",
   "metadata": {
    "cocalc": {
     "description": "Python 3 programming language",
     "priority": 100,
     "url": "https://www.python.org/"
    }
   },
   "name": "python3",
   "resource_dir": "/ext/jupyter/kernels/python3"
  },
  "language_info": {
   "codemirror_mode": {
    "name": "ipython",
    "version": 3
   },
   "file_extension": ".py",
   "mimetype": "text/x-python",
   "name": "python",
   "nbconvert_exporter": "python",
   "pygments_lexer": "ipython3",
   "version": "3.8.5"
  }
 },
 "nbformat": 4,
 "nbformat_minor": 4
}
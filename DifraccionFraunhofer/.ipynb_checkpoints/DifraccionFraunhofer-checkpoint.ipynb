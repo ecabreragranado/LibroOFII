{
 "cells": [
  {
   "cell_type": "markdown",
   "metadata": {},
   "source": [
    "# Difracción de Fraunhofer "
   ]
  },
  {
   "cell_type": "markdown",
   "metadata": {},
   "source": [
    "La difracción es la tendencia de toda onda a apartarse de la propagación rectilínea mientras se propaga o pasa a través de una apertura u obstáculo.\n",
    "\n",
    "Este efecto es básicamente resultado de procesos interferenciales y por lo tanto está íntimamente relacionado con la naturaleza ondulatoria de la luz. \n",
    "\n",
    "Para su estudio vamos a basarnos en el **Principio de Huygens-Fresnel**, el cual es necesario destacar que se trata de una aproximación. Para un tratamiento completo de la difracción debemos acudir a las ecuaciones de Maxwell. Sin embargo, el uso del principo de Huygens-Fresnel nos dará resultados más que suficientes. Dicho principio dice lo siguiente:\n",
    "\n",
    "<div class=\"alert alert-block alert-info\">\n",
    "\n",
    "*Cada punto del frente de onda se puede suponer como centro secundario emisor de ondas esféricas. La perturbación total que llega a otro punto posterior es el resultado de la interferencia de todas esas ondas secundarias.*\n",
    "    \n",
    "</div>"
   ]
  },
  {
   "cell_type": "markdown",
   "metadata": {},
   "source": [
    "Vamos a considerar la siguiente situación: Una onda esférica monocromática procedente de un punto $P_0$ llega a una apertura que denotaremos por $\\Sigma$. Queremos ver cuál es la onda que llega a un punto $P$ situado tras la apertura.\n",
    "<center>\n",
    "    \n",
    "![Dif. General](generaldiff.png)\n",
    "    \n",
    "</center>"
   ]
  },
  {
   "cell_type": "markdown",
   "metadata": {},
   "source": [
    "El campo eléctrico en la apertura será el debido a la onda esférica incidente, \n",
    "\n",
    "$$E = \\frac{E_0}{r} e^{i k r}$$\n",
    "\n",
    "Ahora para calcular el campo eléctrico en $P$, primero consideramos cada elemento de superficie $d\\Sigma$ de la apertura como un centro emisor de ondas esféricas, y después sumaremos (o dicho de otro modo, haremos interferir) las contribuciones de todos los elementos de superficie para obtener el campo eléctrico total . La contribución individual del elemento de superficie $d\\Sigma$ al campo total en $P$ será,\n",
    "\n",
    "$$dE_p = \\frac{E_0}{r} e^{i k r} \\frac{e^{i k s}}{s} d\\Sigma$$\n",
    "\n",
    "En la expresión anterior hemos simplemente escrito una onda esférica que se propaga una distancia $s$ (de ahí el término $\\frac{e^{i k s}}{s}$. Como la excitación de esta onda es debida a otra onda esférica incidente, su amplitud será $\\frac{E_0}{r} e^{i k r} d\\Sigma$, es decir, proporcional al elemento de superficie escogido.\n",
    "\n",
    "Ahora, el campo total lo calcularemos sumando todas las contribuciones de los elementos de superficie distribuidos por toda apertura. Es decir, \n",
    "\n",
    "$$E_p = \\int_{\\Sigma} \\frac{E_0}{r s} e^{i k (r + s)} d\\Sigma$$"
   ]
  },
  {
   "cell_type": "markdown",
   "metadata": {},
   "source": [
    "Resolver la anterior integral dependerá de la forma de la apertura, y de las distancia $s$ y $r$ entre la apertura y el punto $P$ en el que queremos calcular el campo y el punto $P_0$ fuente de la onda esférica incidente en la apertura. Nosotros no vamos a ver el cálculo general, sino que **nos vamos a centrar en la aproximación conocida como régimen (o difracción) de Fraunhofer**. Esta aproximación se corresponde con que la fuente $P_0$ y el punto de observación $P$ estén lo suficientemente alejados de la apertura. A partir de ahora nos referiremos a los puntos $P$ y $P_0$ por sus coordenadas cartesianas tomando como origen el plano de la apertura,las cuales llamaremos $(x,y,z)$ y $(x_0,y_0,z_0)$ respectivamente. Además, las coordenadas de un punto en la apertura las denotaremos por $(\\chi, \\eta)$. \n",
    "\n",
    "Podemos demostrar que **el régimen de Fraunhofer lo podemos obtener cuando se cumple**, \n",
    "\n",
    "$$min(z,z_0) > \\frac{a^2}{\\lambda}$$\n",
    "\n",
    "donde en la expresión anterior, $z$ es la distancia entre la apertura y $P$, $z_0$ la distancia entre $P_0$ y la apertura, $a$ es la dimensión de la apertura, y finalmente $\\lambda$ es la longitud de onda de la luz.\n",
    "\n",
    "Una forma de satisfacer el anterior requisito es situar la fuente $P_0$ y el punto de observación $P$ en el infinito de forma efectiva, es decir, en los planos focales de dos lentes situadas a ambos lados de la apertura.\n",
    "\n",
    "Bajo esta condición, se puede demostrar que el campo resultante en $P$ viene dado por la siguiente expresión, \n",
    "\n",
    "$$E_P = C \\int_{\\Sigma} E_0(\\chi, \\eta) e^{i k (p \\chi + q \\eta)} d\\chi d\\eta$$\n",
    "\n",
    "donde recordamos que $\\chi, \\eta$ son las variables cartesianas en el plano de la apertura (estamos sumando todas las contribuciones de los elementos de superficie en los que dividimos la apertura). Además, \n",
    "$$p = \\frac{x_0}{z_0} + \\frac{x}{z}$$\n",
    "y\n",
    "$$q = \\frac{y_0}{z_0} + \\frac{y}{z}$$\n",
    "\n",
    "**La expresión de $E_P$ escrita de la manera anterior no es nada más que la transformada de Fourier del campo en la apertura $E_0(\\chi, \\eta)$**. Si la apertura tiene una cierta transmitancia $t(\\chi,\\eta)$, el campo inmediatamente después será $t(\\chi, \\eta)E_0(\\chi,\\eta)$ y será este producto el que tengamos que introducir en la expresión de $E_P$."
   ]
  },
  {
   "cell_type": "markdown",
   "metadata": {},
   "source": [
    "## Difracción de Fraunhofer. Apertura rectangular."
   ]
  },
  {
   "cell_type": "markdown",
   "metadata": {},
   "source": [
    "<center>\n",
    "\n",
    "![difrendija](./difraccionrendijafig.png)\n",
    "\n",
    "</center>\n",
    "\n",
    "En este caso, haciendo la integral anterior, el campo  resultante en $P$ que se obtiene es, \n",
    "\n",
    "$$E_P(\\theta) = E_0 \\frac{sen(\\beta)}{\\beta} e^{i(k r_0 - \\omega t)}$$\n",
    "\n",
    "y la irradiancia, \n",
    "<div class=\"alert alert-block alert-success\">\n",
    "\n",
    "$$I_P(\\theta) = I_0 (\\frac{sen(\\beta)}{\\beta})^2 $$\n",
    "    \n",
    "</div>\n",
    "\n",
    "donde en las anteriores expresiones, $\\beta = k a sen(\\theta) / 2$. Es decir, la  irradiancia únicamente depende del ángulo $\\theta$ que subtiende $P$ visto desde el centro de la apertura. \n",
    "\n",
    "En el caso en el que el punto $P$ esté en el plano focal de una lente con focal $f'$, $sen(\\theta) \\simeq y_P / f'$ para ángulos pequeños y $\\beta = k a y_P / 2 f'$  Si por el contrario, observamos en una pantalla a una distancia $D$ mucho mayor que el tamaño de la apertura, $\\beta = ka y_P /2 D$.\n",
    "\n",
    "Veamos qué forma tiene la anterior función. Para observar los cambios en la irradiancia con la anchura de la rendija u otros parámetros, se pueden modificar los parámetros del código que se presenta a continuación."
   ]
  },
  {
   "cell_type": "code",
   "execution_count": 1,
   "metadata": {},
   "outputs": [
    {
     "name": "stdout",
     "output_type": "stream",
     "text": [
      "Tanto la focal como la anchura de la rendija a se expresan en mm\n"
     ]
    }
   ],
   "source": [
    "from numpy import *\n",
    "from matplotlib.pyplot import *\n",
    "import ipywidgets as widgets\n",
    "%matplotlib inline\n",
    "style.use('bmh')\n",
    "\n",
    "\n",
    "\n",
    "yp = linspace(-20,20,500) # vector de posiciones en la pantalla en mm\n",
    "I0 = 1 # en mW/cm^2\n",
    "[X,Y] = meshgrid(yp,yp)\n",
    "\n",
    "def difraccion(focal,a,Color):\n",
    "    if(Color=='Azul (400nm)'):\n",
    "        Lambda = 4e-4\n",
    "        cmapchosen = 'Blues'\n",
    "    elif(Color=='Verde (550 nm)'):\n",
    "        Lambda = 5.5e-4\n",
    "        cmapchosen = 'Greens'\n",
    "    elif(Color=='Rojo (650 nm)'):\n",
    "        Lambda = 6.5e-4\n",
    "        cmapchosen = 'Reds'\n",
    "    \n",
    "    k = 2.0*pi/Lambda\n",
    "    beta = k*a*yp/(2.0*focal)\n",
    "    IP = I0*(sin(beta)/beta)**2\n",
    "\n",
    "    # En 2D\n",
    "    beta2 = k*a*X/(2.0*focal)\n",
    "    IP2 = I0*(sin(beta2)/beta2)**2\n",
    "    fig = figure(figsize=(16,5))\n",
    "    subplot(121)\n",
    "    plot(yp,IP)\n",
    "    xlabel(\"y_P (mm)\")\n",
    "    ylabel(r'I$_0$')\n",
    "    subplot(122)\n",
    "    pcolormesh(yp,yp,IP2,cmap = 'hot');\n",
    "print('Tanto la focal como la anchura de la rendija a se expresan en mm')"
   ]
  },
  {
   "cell_type": "code",
   "execution_count": 3,
   "metadata": {},
   "outputs": [
    {
     "name": "stdout",
     "output_type": "stream",
     "text": [
      "Tanto la focal como la anchura de la rendija a se expresan en mm\n"
     ]
    },
    {
     "data": {
      "application/vnd.jupyter.widget-view+json": {
       "model_id": "9f2a5c4a8315446aae59b1f90cc3421d",
       "version_major": 2,
       "version_minor": 0
      },
      "text/plain": [
       "interactive(children=(IntSlider(value=500, description='focal', max=700, min=300, step=50), FloatSlider(value=…"
      ]
     },
     "execution_count": 3,
     "metadata": {},
     "output_type": "execute_result"
    },
    {
     "data": {
      "text/plain": [
       "<function __main__.difraccion(focal, a, Color)>"
      ]
     },
     "execution_count": 3,
     "metadata": {},
     "output_type": "execute_result"
    }
   ],
   "source": [
    "from numpy import *\n",
    "from matplotlib.pyplot import *\n",
    "import ipywidgets as widgets\n",
    "%matplotlib inline\n",
    "style.use('bmh')\n",
    "\n",
    "\n",
    "\n",
    "yp = linspace(-20,20,500) # vector de posiciones en la pantalla en mm\n",
    "I0 = 1 # en mW/cm^2\n",
    "[X,Y] = meshgrid(yp,yp)\n",
    "\n",
    "def difraccion(focal,a,Color):\n",
    "    if(Color=='Azul (400nm)'):\n",
    "        Lambda = 4e-4\n",
    "        cmapchosen = 'Blues'\n",
    "    elif(Color=='Verde (550 nm)'):\n",
    "        Lambda = 5.5e-4\n",
    "        cmapchosen = 'Greens'\n",
    "    elif(Color=='Rojo (650 nm)'):\n",
    "        Lambda = 6.5e-4\n",
    "        cmapchosen = 'Reds'\n",
    "    \n",
    "    k = 2.0*pi/Lambda\n",
    "    beta = k*a*yp/(2.0*focal)\n",
    "    IP = I0*(sin(beta)/beta)**2\n",
    "\n",
    "    # En 2D\n",
    "    beta2 = k*a*X/(2.0*focal)\n",
    "    IP2 = I0*(sin(beta2)/beta2)**2\n",
    "    fig = figure(figsize=(16,5))\n",
    "    subplot(121)\n",
    "    plot(yp,IP)\n",
    "    xlabel(\"y_P (mm)\")\n",
    "    ylabel(r'I$_0$')\n",
    "    subplot(122)\n",
    "    pcolormesh(yp,yp,IP2,cmap = 'hot');\n",
    "print('Tanto la focal como la anchura de la rendija a se expresan en mm')\n",
    "\n",
    "lambdawidgets = widgets.Dropdown(options=['Azul (400nm)','Verde (550 nm)','Rojo (650 nm)'])\n",
    "lambdawidgets.height = 30\n",
    "widgets.interact(difraccion,focal=(300,700,50),a=(0.01,0.2,0.03),Color=lambdawidgets)#widgets.fixed(5.5e-7))\n"
   ]
  },
  {
   "cell_type": "markdown",
   "metadata": {},
   "source": [
    "### Minimos de irradiancia\n",
    "\n",
    "Lo que observamos en la figura superior es que aparece un maximo central muy pronunciado y unos maximos y minimos laterales, cuyo espaciado depende de la anchura de la rendija. Veamos cuales son las posiciones de los minimos de irradiancia.Atendiendo a la expresion de la irradiancia en la pantalla, los minimos ocurriran en las posiciones que hagan nulo el numerador, es decir, cuando,\n",
    "\n",
    "$$\\sin(k a y_P/2D) = 0 \\Rightarrow \\frac{k a y_P}{2D} = m \\pi \\;\\; rad$$\n",
    "\n",
    "donde en la anterior expresion se ha supuesto que observamos el patron de irradiancia en una pantalla situada a una distancia $D$ de la rendija. Despejando $y_P$ obtendremos las posiciones en la pantalla (distancia al eje) que hacen nula la irradiancia. Estas distancias seran, \n",
    "\n",
    "$$y_P^{min} = \\frac{m \\lambda D}{a} $$\n",
    "\n",
    "En esta expresion hay que analizar en detalle que ocurre cuando $m = 0$. En este caso, el seno efectivamente es nulo,pero tambien lo es el denominador de la expresion de $I_P$, por lo que tenemos una indeterminacion. Si la resolvemos, observamos que la irradiancia en ese punto no es nula (minima) sino maxima. Es mas, es el maximo central mas alto de todos. Por tanto, las posiciones de los minimos hay que encontrarlas para $m = \\pm 1, \\pm 2, \\pm 3 \\ldots$."
   ]
  },
  {
   "cell_type": "markdown",
   "metadata": {},
   "source": [
    "Hemos comentado anteriormente que la difracción de Fraunhofer no era más que la transformada de Fourier del campo en la apertura (mejor dicho, el campo es proporcional a la transformada de Fourier). Veamos esto. \n",
    "\n",
    "En el código que se presenta a continuación se calcula un campo en la apertura. Como suponemos que llega una onda plana, el campo en la apertura será nada más que un valor constante para los puntos dentro de la apertura y nulo en los puntos fuera de la apertura. En el código a este campo se le denomina *campoinc*. Posteriormente, el código usa la función *fft* estándar para calcular la transformada de Fourier de ese campo. Finalmente, representamos el cuadrado del valor absoluto de esa transformada, que, deberá ser proporcional a la irradiancia representada anteriormente. \n",
    "\n",
    "Podemos ver cómo la función obtenida es igual a la representada anteriormente. Aunque un análisis más detallado debería tener en cuenta la transformación entre las frecuencias utilizadas en el código y los valores de *y* en el plano de observación, no entraremos ahí. Nos basta por el momento con ejemplificar la relación entre la transformada de Fourier y la irradiancia obtenida en el régimen de Fraunhofer."
   ]
  },
  {
   "cell_type": "code",
   "execution_count": 0,
   "metadata": {},
   "outputs": [],
   "source": [
    "def fun(x):\n",
    "    if(abs(x)<0.05/2):\n",
    "        return 1.0\n",
    "    else:\n",
    "        return 0.0\n",
    "    \n",
    "y = linspace(-0.5,0.5,140)\n",
    "funvec = vectorize(fun)\n",
    "campoinc = funvec(y)\n",
    "from scipy.fftpack import fft, fftfreq\n",
    "fig = figure(figsize=(10,6))\n",
    "freq = fftfreq(y.shape[0],y[1]-y[0])\n",
    "tfcampo = fft(campoinc)\n",
    "tfcampo2 = abs(tfcampo)**2/max(abs(tfcampo))**2\n",
    "plot(freq,abs(fft(campoinc))**2/max(abs(fft(campoinc)))**2)\n",
    "ylabel(\"I\")\n"
   ]
  },
  {
   "cell_type": "markdown",
   "metadata": {},
   "source": [
    "## Difracción de Fraunhofer. Abertura circular"
   ]
  },
  {
   "cell_type": "markdown",
   "metadata": {},
   "source": [
    "En el caso de una apertura circular de diámetro $D_a$, la expresión del campo eléctrico en un punto $P$ que subtiende un ángulo $\\theta$ con el eje, y bajo la aproximación considerada en el régimen de Fraunhofer es la siguiente, \n",
    "\n",
    "$$ E(\\theta) = C \\frac{J_1(k \\frac{D_a}{2} sen(\\theta))}{k \\frac{D_a}{2} sen(\\theta)}$$\n",
    "\n",
    "y por tanto la irradiancia, \n",
    "\n",
    "$$ I(\\theta) = I_0 \\left(\\frac{J_1(k \\frac{D_a}{2} sen(\\theta))}{k \\frac{D_a}{2} sen(\\theta)}\\right)^2$$\n",
    "\n",
    "A esta función se le denomina *mancha de Airy* y es fundamental para comprender la formación de la imagen de sistemas ópticos incluyendo la naturaleza ondulatoria de la luz, así como su poder de resolución.\n",
    "\n",
    "Si observamos el patrón de difracción en una pantalla situada a una distancia $D$ de la apertura, y llamamos $r$ a la distancia del punto de observación $P$ al eje del sistema óptico, tendremos que $tan(\\theta) = r/D$. Por otro lado, si consideramos que el ángulo subtendido por el punto $P$ es pequeño, $sen(\\theta) \\simeq tan(\\theta) = r/D$, pudiendo sustituir el seno en las expresiones anteriores por este cociente.\n",
    "\n",
    "La forma de esta función la podemos ver en la siguiente figura."
   ]
  },
  {
   "cell_type": "code",
   "execution_count": 0,
   "metadata": {},
   "outputs": [],
   "source": [
    "from numpy import *\n",
    "from matplotlib.pyplot import *\n",
    "import ipywidgets as widgets\n",
    "%matplotlib inline\n",
    "style.use('bmh')\n",
    "\n",
    "from scipy.special import j1\n",
    "\n",
    "#Parámetros\n",
    "#############\n",
    "Da = 0.1 # mm\n",
    "D = 2000 # distancia entre la apertura y la pantalla de observacion\n",
    "I0 = 1 #mW/cm^2\n",
    "############\n",
    "\n",
    "r = linspace(0.001,50,100)\n",
    "x = linspace(-50,50,100)\n",
    "[X,Y] = meshgrid(x,x)\n",
    "R = sqrt(X**2 + Y**2)\n",
    "def circ(D,Da,Color):\n",
    "    if(Color=='Azul (400nm)'):\n",
    "        Lambda = 4e-4\n",
    "        cmapchosen = 'Blues'\n",
    "    elif(Color=='Verde (550 nm)'):\n",
    "        Lambda = 5.5e-4\n",
    "        cmapchosen = 'Greens'\n",
    "    elif(Color=='Rojo (650 nm)'):\n",
    "        Lambda = 6.5e-4\n",
    "        cmapchosen = 'Reds'\n",
    "    \n",
    "    k = 2.0*pi/Lambda\n",
    "    \n",
    "    fig = figure(figsize=(14,7))\n",
    "    subplot(121)\n",
    "    Icirc = I0*(j1(k*0.5*Da*r/D)/(k*0.5*Da*r/D))**2\n",
    "    plot(r,Icirc)\n",
    "    xlabel(\"r (mm)\")\n",
    "    ylabel(\"I (u.a.)\");\n",
    "\n",
    "    #En 2D\n",
    "   \n",
    "    Icirc2 =  I0*(j1(k*0.5*Da*R/D)/(k*0.5*Da*R/D))**2\n",
    "    subplot(122)\n",
    "    pcolormesh(x,x,Icirc2,cmap='hot')\n",
    "    xlabel('x (mm)')\n",
    "    xlim([-50,50])\n",
    "    ylim([-50,50])\n",
    "    ylabel('y (mm)')\n",
    "    return\n",
    "print('Tanto la focal como el diametro del circulo Da se expresan en mm')\n",
    "\n",
    "lambdawidgets = widgets.Dropdown(options=['Azul (400nm)','Verde (550 nm)','Rojo (650 nm)'])\n",
    "lambdawidgets.height = 30\n",
    "widgets.interact(circ,D=(500,3000,100),Da=(0.05,0.2,0.02),Color=lambdawidgets)#widgets.fixed(5.5e-7))\n"
   ]
  },
  {
   "cell_type": "markdown",
   "metadata": {},
   "source": [
    "Vemos que tiene simetría circular, y que los máximos secundarios son muchísimo menores en amplitud que el pico central, lo que quiere decir que prácticamente toda la energía se encuentra en el máximo central. Para observar cómo varía la forma de esta función con la dimensión de la apertura, modificar en el anterior código el parámetro $D_a$ y volver a ejecutarlo.\n",
    "\n",
    "\n",
    "-----\n",
    "\n",
    "Como se puede observar en la figura superior, los maximos laterales tienen una altura mucho menor que el pico central, o lo que es lo mismo, el primer maximo contiene la mayor parte de la energia del haz. Es por ello que en esta distribucion de irradiancia toma mucha importancia el primer minimo, mas que los minimos de ordenes mas altos. Para hallarlo, tenemos que encontrar el primer minimo de la funcion de Bessel $J_1$ del numerador en la expresion de la irradiancia en la pantalla. Estos minimos los podemos encontrar en cualquier libro de tablas, obteniendo que, \n",
    "\n",
    "$$ k \\frac{D_a}{2} \\sin(\\theta) \\sim 3.4 \\Rightarrow \\sin(theta) \\simeq \\frac{1.22 \\lambda}{D_a}$$\n",
    "\n",
    "Este angulo asi hallado es el angulo que subtiende el primer minimo en la pantalla con el eje del sistema visto desde la apertura circular. Como normalmente es pequeno, tenemos que $\\sin(\\theta) \\sim \\theta \\sim \\tan(\\theta) = r_1/D$, donde aqui $r_1$ representa el radio de ese primer anillo oscuro y $D$ la distancia entre la apertura y la pantalla de observacion. Tenemos por tanto, que el radio del primer anillo oscuro, es igual a, \n",
    "\n",
    "$$r_1 = \\frac{1.22 \\lambda D}{D_a}$$\n",
    "\n"
   ]
  },
  {
   "cell_type": "code",
   "execution_count": 0,
   "metadata": {},
   "outputs": [],
   "source": []
  }
 ],
 "metadata": {
  "kernelspec": {
   "display_name": "Python 3",
   "language": "python",
   "name": "python3"
  },
  "language_info": {
   "codemirror_mode": {
    "name": "ipython",
    "version": 3
   },
   "file_extension": ".py",
   "mimetype": "text/x-python",
   "name": "python",
   "nbconvert_exporter": "python",
   "pygments_lexer": "ipython3",
   "version": "3.7.11"
  },
  "latex_envs": {
   "bibliofile": "biblio.bib",
   "cite_by": "apalike",
   "current_citInitial": 1,
   "eqLabelWithNumbers": true,
   "eqNumInitial": 0
  }
 },
 "nbformat": 4,
 "nbformat_minor": 4
}

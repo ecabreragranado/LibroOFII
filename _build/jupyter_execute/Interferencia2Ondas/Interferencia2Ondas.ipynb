{
 "cells": [
  {
   "cell_type": "markdown",
   "metadata": {},
   "source": [
    "# Interferencia entre 2 ondas electromagnéticas"
   ]
  },
  {
   "cell_type": "markdown",
   "metadata": {},
   "source": [
    "### Repaso de lo estudiado en cursos anteriores"
   ]
  },
  {
   "cell_type": "markdown",
   "metadata": {},
   "source": [
    "En cursos anteriores se ha tratado de responder a la pregunta: ¿Qué perturbación encontramos en un punto P si llegan a él dos ondas diferentes?\n",
    "\n",
    "En particular, se ha estudiado el caso en el que las dos ondas son armónicas, del tipo:\n",
    "\n",
    "$$y_1(x_1,t) = A \\cos(k x_1 - \\omega t + \\phi_1) $$\n",
    "$$y_2(x_2,t) = A \\cos(k x_2 - \\omega t + \\phi_2) $$\n",
    "\n",
    "Donde se considera que las dos ondas poseen la misma amplitud para simplificar el resultado. \n",
    "\n",
    "El *principio de superposición* nos dice que la perturbación total es la suma de las perturbaciones\n",
    "provocadas por cada una de las ondas. Este principio es equivalente a decir que la ecuación de ondas\n",
    "es una ecuación lineal.\n",
    "\n",
    "Así pues, si llamamos $y_t(x_p,t)$ a la perturbación total:\n",
    "\n",
    "$$y_t(x,t) = A \\cos(k x_1 - \\omega t + \\phi_1) + A \\cos(k x_2 - \\omega t + \\phi_2)$$\n",
    "\n",
    "Teniendo en cuenta que $\\cos A + \\cos B = 2 \\cos(\\frac{A+B}{2})\\cos(\\frac{A-B}{2})$, \n",
    "\n",
    "$$y_t(x_p,t) = 2 A \\cos(k \\frac{x_1 - x_2}{2} + \\frac{\\phi_1 - \\phi_2}{2}) \\cos(k \\frac{x_1 + x_2}{2} - \\omega t+ \\frac{\\phi_1 + \\phi_2}{2})$$\n",
    "\n",
    "Si definimos $\\delta = k (x_1 - x_2) + \\phi_1 - \\phi_2$, el valor de esta variable determina la amplitud de\n",
    "la perturbación en el punto P. Este valor depende de la diferencia de caminos entre las dos ondas y del desfase inicial. Si\n",
    "$\\delta = 2 m \\pi$, con $m = 0, \\pm 1, \\pm 2...$ la amplitud total tomará el valor máximo $2 A$, mientras que si $\\delta = 2(m+1) \\pi$\n",
    "la amplitud será nula. \n",
    "\n",
    "Vemos que **la interferencia da lugar a una redistribución espacial de la energía**."
   ]
  },
  {
   "cell_type": "markdown",
   "metadata": {},
   "source": [
    "### Interferencia entre dos ondas electromagnéticas"
   ]
  },
  {
   "cell_type": "markdown",
   "metadata": {},
   "source": [
    "La interferencia anteriormente explicada es, por supuesto, válida para las ondas electromagnéticas. Sin embargo, en este caso hay que considerar algunas características particulares de este tipo de ondas que añaden nuevos efectos, \n",
    "\n",
    "* Las ondas electromagnéticas poseen **polarización**, es decir, tenemos que sumar vectores.\n",
    "\n",
    "* Lo que medimos no es la amplitud de la onda sino la irradiancia. Esta magnitud, aparte de ser proporcional al cuadrado de la \n",
    "amplitud, representa un promedio en un tiempo mucho mayor que el periodo de oscilación de los campos ($\\sim$ 1-10 fs).\n",
    "\n",
    "$$ I \\propto < \\vec{E}^2>_{\\tau} = \\frac{1}{\\tau} \\int_t^{t + \\tau} \\vec{E(t')}^2 dt' $$\n",
    "\n",
    "$$ I = \\epsilon_0 c n < \\vec{E}^2>_{\\tau} $$\n",
    "\n",
    "* Debido a que lo que vemos es este promedio, la fase entre los campos que interfieren no puede variar en el tiempo si queremos ver\n",
    "la interferencia. Esta característica se denomina *coherencia* y la veremos desarrollada más adelante en el curso.\n",
    "\n",
    "Vamos a describir a continuación la **interferencia de dos ondas electromagnéticas planas, polarizadas linealmente y monocromáticas**\n",
    "\n",
    "Los campos eléctricos asociados a cada onda serán:\n",
    "\n",
    "$$E_1(\\vec{r},t) = \\vec{E_{01}} cos(\\vec{k_1} \\vec{r} - \\omega t + \\phi_1) $$\n",
    "$$E_2(\\vec{r},t) = \\vec{E_{02}} cos(\\vec{k_2}\\vec{r} - \\omega t + \\phi_2) $$\n",
    "\n",
    "El campo total será $\\vec{E_t} = \\vec{E_1} + \\vec{E_2}$ , y la irradiancia total $I_t = \\epsilon_0 c n <\\vec{E_T}^2>$.\n",
    "\n",
    "$$I_t = \\epsilon_0 c n <(\\vec{E_1} + \\vec{E_2})^2> =  \\epsilon_0 c n <\\vec{E_1}^2> +  \\epsilon_0 c n <\\vec{E_1}^2> +  2 \\epsilon_0 c n <\\vec{E_1} \\cdot \\vec{E_2}>$$\n",
    "\n",
    "En los anteriores términos, podemos reconocer,\n",
    "\n",
    "$$I_1 = \\epsilon_0 c n <\\vec{E_1}^2>$$\n",
    "$$I_2 = \\epsilon_0 c n <\\vec{E_2}^2>$$\n",
    "\n",
    "mientras que el último término se conoce como término de interferencia. Si multiplicamos escalarmente ambos campos y realizamos\n",
    "la integral que nos da el promedio en el tiempo, considerando que $<sen^2(\\omega t)> = <cos^2(\\omega t)> =  1/2$ y además que\n",
    "$<sen(\\omega t)cos(\\omega t)> =  0$, podemos llegar al siguiente resultado:\n",
    "\n",
    "$$<\\vec{E_1} \\cdot \\vec{E_2}> = \\frac{1}{2}\\vec{E_{01}} \\cdot \\vec{E_{02}} cos[(\\vec{k_1} - \\vec{k_2})\\cdot \\vec{r} + (\\phi_1 - \\phi2)] $$\n",
    "\n",
    "En esta expresión se ha asumido además que las fases iniciales $\\phi_{12}$ no dependen del tiempo.\n",
    "\n",
    "De la anterior expresión podemos extraer varias características:\n",
    "\n",
    "+ El término de interferencia depende del *producto escalar* $\\vec{E_{01}} \\cdot \\vec{E_{02}}$.\n",
    "Es decir, **si las dos ondas se encuentran polarizadas perpendicularmente no interfieren**. Este producto\n",
    "escalar puede escribirse también con los vectores unitarios en las direcciones de $\\vec{E_{01}}$ y $\\vec{E_{02}}$, \n",
    "$\\vec{E_{01}} \\cdot \\vec{E_{02}} = E_{01}E_{02}(\\vec{e_{1}} \\cdot \\vec{e_{2}})$\n",
    "\n",
    "+ Depende del desfase relativo entre las dos ondas $\\delta = (\\vec{k_1} - \\vec{k_2})\\cdot \\vec{r} + (\\phi_1 - \\phi2)$.\n",
    "\n",
    "\n",
    "Así pues, podemos concluir que,\n",
    "\n",
    "$$I_t = I_1 + I_2 + 2 \\sqrt{I_1 I_2}(\\vec{e_{1}} \\cdot \\vec{e_{2}})cos(\\delta)$$\n",
    "\n",
    "En el caso en que $I_1 = I_2 = I_0$, $I_t = 2 I_0 ( 1 + cos(\\delta)) = 4 I_0 cos^2(\\frac{\\delta}{2})$\n",
    "\n",
    "Si definimos el contraste como, \n",
    "\n",
    "$$C = \\frac{I_{max} - I_{min}}{I_{max} + I_{min}}$$\n",
    "\n",
    "podemos reescribir la irradiancia total como, \n",
    "\n",
    "$$I_t = (I_1 + I_2)(1 + C cos(\\delta))$$\n",
    "\n",
    "Vamos a ver un ejemplo de la variación de la irradiancia total con el desfase entre las dos ondas."
   ]
  },
  {
   "cell_type": "code",
   "execution_count": 1,
   "metadata": {},
   "outputs": [
    {
     "ename": "NameError",
     "evalue": "name 'plt' is not defined",
     "output_type": "error",
     "traceback": [
      "\u001b[0;31m---------------------------------------------------------------------------\u001b[0m",
      "\u001b[0;31mNameError\u001b[0m                                 Traceback (most recent call last)",
      "\u001b[0;32m/tmp/ipykernel_20026/534213191.py\u001b[0m in \u001b[0;36m<module>\u001b[0;34m\u001b[0m\n\u001b[1;32m      8\u001b[0m \u001b[0;31m############\u001b[0m\u001b[0;34m\u001b[0m\u001b[0;34m\u001b[0m\u001b[0;34m\u001b[0m\u001b[0m\n\u001b[1;32m      9\u001b[0m \u001b[0mI_t\u001b[0m \u001b[0;34m=\u001b[0m \u001b[0mI_1\u001b[0m \u001b[0;34m+\u001b[0m \u001b[0mI_2\u001b[0m \u001b[0;34m+\u001b[0m \u001b[0;36m2\u001b[0m\u001b[0;34m*\u001b[0m\u001b[0msqrt\u001b[0m\u001b[0;34m(\u001b[0m\u001b[0mI_1\u001b[0m\u001b[0;34m*\u001b[0m\u001b[0mI_2\u001b[0m\u001b[0;34m)\u001b[0m\u001b[0;34m*\u001b[0m\u001b[0mcos\u001b[0m\u001b[0;34m(\u001b[0m\u001b[0mdelta\u001b[0m\u001b[0;34m)\u001b[0m\u001b[0;34m\u001b[0m\u001b[0;34m\u001b[0m\u001b[0m\n\u001b[0;32m---> 10\u001b[0;31m \u001b[0mfig\u001b[0m \u001b[0;34m=\u001b[0m \u001b[0mplt\u001b[0m\u001b[0;34m.\u001b[0m\u001b[0mfigure\u001b[0m\u001b[0;34m(\u001b[0m\u001b[0mfigsize\u001b[0m\u001b[0;34m=\u001b[0m\u001b[0;34m(\u001b[0m\u001b[0;36m10\u001b[0m\u001b[0;34m,\u001b[0m\u001b[0;36m6\u001b[0m\u001b[0;34m)\u001b[0m\u001b[0;34m)\u001b[0m\u001b[0;34m\u001b[0m\u001b[0;34m\u001b[0m\u001b[0m\n\u001b[0m\u001b[1;32m     11\u001b[0m \u001b[0mplot\u001b[0m\u001b[0;34m(\u001b[0m\u001b[0mdelta\u001b[0m\u001b[0;34m,\u001b[0m\u001b[0mI_t\u001b[0m\u001b[0;34m)\u001b[0m\u001b[0;34m\u001b[0m\u001b[0;34m\u001b[0m\u001b[0m\n\u001b[1;32m     12\u001b[0m \u001b[0mylim\u001b[0m\u001b[0;34m(\u001b[0m\u001b[0;36m0\u001b[0m\u001b[0;34m,\u001b[0m\u001b[0;36m4\u001b[0m\u001b[0;34m)\u001b[0m\u001b[0;34m\u001b[0m\u001b[0;34m\u001b[0m\u001b[0m\n",
      "\u001b[0;31mNameError\u001b[0m: name 'plt' is not defined"
     ]
    }
   ],
   "source": [
    "from numpy import *\n",
    "from matplotlib.pyplot import *\n",
    "style.use('fivethirtyeight')\n",
    "delta = arange(0,6*pi,0.1)\n",
    "## Cambia estos parametros\n",
    "I_1 = 1\n",
    "I_2 =  0.2\n",
    "############\n",
    "I_t = I_1 + I_2 + 2*sqrt(I_1*I_2)*cos(delta)\n",
    "fig = plt.figure(figsize=(10,6))\n",
    "plot(delta,I_t)\n",
    "ylim(0,4)\n",
    "xlabel(r'$\\delta$')\n",
    "ylabel(r'I$_t$');"
   ]
  },
  {
   "cell_type": "markdown",
   "metadata": {},
   "source": [
    "En el anterior código, \n",
    "\n",
    "* Cálcula el contraste de la interferencia.\n",
    "* Cambia los valores de $I_1$ y de $I_2$ y ejecuta la celda. ¿En qué cambia la figura?. ¿Cambia el contraste?\n",
    "* ¿Qué valores de $\\delta$ observas que dan máxima $I_t$ y cuáles mínima?\n"
   ]
  },
  {
   "cell_type": "markdown",
   "metadata": {},
   "source": [
    "Vemos que el desfase $\\delta$ es el que determina el valor de la irradiancia total. Hay que tener presente que viene definido, para el caso que estamos estudiando, por la expresión,\n",
    "\n",
    "$$ \\delta = (\\vec{k_1} - \\vec{k_2})\\cdot \\vec{r} + (\\phi_1 - \\phi_2) $$\n",
    "\n",
    "Vemos pues que, fijado el desfase inicial entre las dos ondas $\\phi_1 - \\phi_2$, $\\delta$ depende únicamente del punto en donde estemos midiendo $I_t$ y de la diferencia entre los\n",
    "vectores de onda asociados a cada una de las dos ondas que interfieren."
   ]
  },
  {
   "cell_type": "markdown",
   "metadata": {},
   "source": [
    "### Otros recursos\n",
    "\n",
    "Los siguientes videos de Kahn Academy explican de una manera sencilla la interferencia de "
   ]
  },
  {
   "cell_type": "code",
   "execution_count": 1,
   "metadata": {},
   "outputs": [
    {
     "data": {
      "text/html": [
       "\n",
       "<iframe\n",
       "    width=\"400\"\n",
       "    height=\"300\"\n",
       "    src=\"https://www.youtube.com/embed/https://youtu.be/H02ZBgrzkNU\"\n",
       "    frameborder=\"0\"\n",
       "    allowfullscreen\n",
       "></iframe>\n"
      ]
     },
     "execution_count": 1,
     "metadata": {},
     "output_type": "execute_result"
    }
   ],
   "source": [
    "from IPython.display import YouTubeVideo\n",
    "YouTubeVideo('https://youtu.be/H02ZBgrzkNU')"
   ]
  },
  {
   "cell_type": "code",
   "execution_count": 3,
   "metadata": {},
   "outputs": [
    {
     "name": "stderr",
     "output_type": "stream",
     "text": [
      "WARNING: Some output was deleted.\n"
     ]
    }
   ],
   "source": [
    "from IPython.display import YouTubeVideo\n",
    "YouTubeVideo('https://youtu.be/F5uuAQprw84')\n",
    "YouTubeVideo('https://youtu.be/Y7peakctWdc')"
   ]
  },
  {
   "cell_type": "code",
   "execution_count": 5,
   "metadata": {},
   "outputs": [
    {
     "data": {
      "text/html": [
       "<div style=\"position: relative; width: 300px; height: 232px;\"><a href=\"http://phet.colorado.edu/sims/wave-interference/wave-interference_en.jnlp\" style=\"text-decoration: none;\"><img src=\"http://phet.colorado.edu/sims/wave-interference/wave-interference-screenshot.png\" alt=\"Wave Interference\" style=\"border: none;\" width=\"300\" height=\"232\"/><div style=\"position: absolute; width: 200px; height: 80px; left: 50px; top: 76px; background-color: #FFF; opacity: 0.6; filter: alpha(opacity = 60);\"></div><table style=\"position: absolute; width: 200px; height: 80px; left: 50px; top: 76px;\"><tr><td style=\"text-align: center; color: #000; font-size: 24px; font-family: Arial,sans-serif;\">Click to Run</td></tr></table></a></div>"
      ]
     },
     "execution_count": 5,
     "metadata": {},
     "output_type": "execute_result"
    }
   ],
   "source": [
    "from IPython.display import HTML\n",
    "HTML('<div style=\"position: relative; width: 300px; height: 232px;\"><a href=\"http://phet.colorado.edu/sims/wave-interference/wave-interference_en.jnlp\" style=\"text-decoration: none;\"><img src=\"http://phet.colorado.edu/sims/wave-interference/wave-interference-screenshot.png\" alt=\"Wave Interference\" style=\"border: none;\" width=\"300\" height=\"232\"/><div style=\"position: absolute; width: 200px; height: 80px; left: 50px; top: 76px; background-color: #FFF; opacity: 0.6; filter: alpha(opacity = 60);\"></div><table style=\"position: absolute; width: 200px; height: 80px; left: 50px; top: 76px;\"><tr><td style=\"text-align: center; color: #000; font-size: 24px; font-family: Arial,sans-serif;\">Click to Run</td></tr></table></a></div>')"
   ]
  },
  {
   "cell_type": "code",
   "execution_count": 0,
   "metadata": {},
   "outputs": [],
   "source": []
  }
 ],
 "metadata": {
  "kernelspec": {
   "display_name": "Python 3",
   "language": "python",
   "name": "python3"
  },
  "language_info": {
   "codemirror_mode": {
    "name": "ipython",
    "version": 3
   },
   "file_extension": ".py",
   "mimetype": "text/x-python",
   "name": "python",
   "nbconvert_exporter": "python",
   "pygments_lexer": "ipython3",
   "version": "3.7.13"
  },
  "latex_envs": {
   "bibliofile": "biblio.bib",
   "cite_by": "apalike",
   "current_citInitial": 1,
   "eqLabelWithNumbers": true,
   "eqNumInitial": 0
  },
  "name": "Interferencia2Ondas.ipynb"
 },
 "nbformat": 4,
 "nbformat_minor": 4
}
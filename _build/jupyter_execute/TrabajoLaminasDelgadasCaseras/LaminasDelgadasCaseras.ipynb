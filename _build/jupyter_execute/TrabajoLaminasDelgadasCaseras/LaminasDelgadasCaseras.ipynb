{
 "cells": [
  {
   "cell_type": "markdown",
   "metadata": {},
   "source": [
    "# Láminas delgadas caseras. Trabajo en Grupo."
   ]
  },
  {
   "cell_type": "markdown",
   "metadata": {},
   "source": [
    "El trabajo consiste en realizar láminas delgadas caseras. Para ello se pone una gota de esmalte de uñas transparente sobre un recipiente con agua y rápidamente recogeremos la lámina delgada sumergiendo una cartulina negra que al levantarla recoja la lámina.\n",
    "\n",
    "Antes de empezar podéis ver las páginas web (o buscar otras):\n",
    "- https://sciencenotes.org/rainbow-paper-thin-film-science-project/\n",
    "- https://www.kiwico.com/diy/Science-Projects-for-Kids/3/project/Rainbow-Paper-Experiment/2583\n",
    "- https://www.youtube.com/watch?v=39XelPRc6ds\n",
    "\n",
    "Material necesario.\n",
    "- Esmalte de uñas transparente\n",
    "- Un recipiente para el agua tipo bol o tupper\n",
    "- Cartulina negra y tijeras.\n",
    "\n",
    "Tenéis que grabar vídeos del proceso. Dejar secar la lámina y hacer fotos del resultado final. **Más de la mitad de los miembros del grupo** tienen que realizar las láminas y subir sus vídeos donde se os vea claramente en algún momento.\n",
    "\n",
    "Para subir las fotos y los vídeos hay que pinchar en New (ver parte superior izquierda) y arrastrar los archivos a la zona que aparece debajo."
   ]
  },
  {
   "cell_type": "markdown",
   "metadata": {},
   "source": [
    "## Cuestión 1\n",
    "\n",
    "**Más de la mitad de los miembros del grupo** deberán realizar las siguientes tareas:\n",
    "\n",
    "Grabar un vídeo que muestre lo siguiente:\n",
    "* Los materiales empleados, explicación.\n",
    "* El proceso de formación mientras se explica.\n",
    "* En algún momento del video deberá verse al alumno.\n",
    "\n",
    "Dejamos secar la lámina y posteriormente hacemos dos fotos del resultado:\n",
    "* Una de cerca donde se vea bien la lámina\n",
    "* Otra donde aparezca el alumno junto a dicha lámina.\n",
    "\n",
    "Los vídeos y fotos se subirán a CoCalc, en la misma carpeta que el presente trabajo. Esta subida se puede realizar pinchando en \"Files\" (icono de carpeta), al lado de \"+New\", en la parte superior izquierda de la página, y a continuación en \"Upload\".\n",
    "\n",
    "Una vez subidos, editar las siguientes celdas escribiendo entre las comillas los nombres de los vídeos y la fotos (incluyendo la extensión)."
   ]
  },
  {
   "cell_type": "markdown",
   "metadata": {},
   "source": [
    "### Lámina delgada 1"
   ]
  },
  {
   "cell_type": "markdown",
   "metadata": {},
   "source": [
    "**Vídeo 1**"
   ]
  },
  {
   "cell_type": "code",
   "execution_count": 1,
   "metadata": {},
   "outputs": [
    {
     "ename": "ValueError",
     "evalue": "To embed videos, you must pass embed=True (this may make your notebook files huge)\nConsider passing Video(url='...')",
     "output_type": "error",
     "traceback": [
      "\u001b[0;31m---------------------------------------------------------------------------\u001b[0m",
      "\u001b[0;31mValueError\u001b[0m                                Traceback (most recent call last)",
      "\u001b[0;32m/tmp/ipykernel_2397848/2856149666.py\u001b[0m in \u001b[0;36m<module>\u001b[0;34m\u001b[0m\n\u001b[1;32m      2\u001b[0m \u001b[0;31m#NO TOCAR\u001b[0m\u001b[0;34m\u001b[0m\u001b[0;34m\u001b[0m\u001b[0;34m\u001b[0m\u001b[0m\n\u001b[1;32m      3\u001b[0m \u001b[0;32mfrom\u001b[0m \u001b[0mIPython\u001b[0m\u001b[0;34m.\u001b[0m\u001b[0mdisplay\u001b[0m \u001b[0;32mimport\u001b[0m \u001b[0mVideo\u001b[0m\u001b[0;34m\u001b[0m\u001b[0;34m\u001b[0m\u001b[0m\n\u001b[0;32m----> 4\u001b[0;31m \u001b[0mVideo\u001b[0m\u001b[0;34m(\u001b[0m\u001b[0mnombre_archivo_video\u001b[0m\u001b[0;34m)\u001b[0m\u001b[0;34m\u001b[0m\u001b[0;34m\u001b[0m\u001b[0m\n\u001b[0m",
      "\u001b[0;32m~/anaconda3/lib/python3.7/site-packages/IPython/core/display.py\u001b[0m in \u001b[0;36m__init__\u001b[0;34m(self, data, url, filename, embed, mimetype, width, height, html_attributes)\u001b[0m\n\u001b[1;32m   1408\u001b[0m                 \u001b[0;34m\"Consider passing Video(url='...')\"\u001b[0m\u001b[0;34m,\u001b[0m\u001b[0;34m\u001b[0m\u001b[0;34m\u001b[0m\u001b[0m\n\u001b[1;32m   1409\u001b[0m             ])\n\u001b[0;32m-> 1410\u001b[0;31m             \u001b[0;32mraise\u001b[0m \u001b[0mValueError\u001b[0m\u001b[0;34m(\u001b[0m\u001b[0mmsg\u001b[0m\u001b[0;34m)\u001b[0m\u001b[0;34m\u001b[0m\u001b[0;34m\u001b[0m\u001b[0m\n\u001b[0m\u001b[1;32m   1411\u001b[0m \u001b[0;34m\u001b[0m\u001b[0m\n\u001b[1;32m   1412\u001b[0m         \u001b[0mself\u001b[0m\u001b[0;34m.\u001b[0m\u001b[0mmimetype\u001b[0m \u001b[0;34m=\u001b[0m \u001b[0mmimetype\u001b[0m\u001b[0;34m\u001b[0m\u001b[0;34m\u001b[0m\u001b[0m\n",
      "\u001b[0;31mValueError\u001b[0m: To embed videos, you must pass embed=True (this may make your notebook files huge)\nConsider passing Video(url='...')"
     ]
    }
   ],
   "source": [
    "nombre_archivo_video = \"polariscopiolineal.mkv\" #escribir entre las comillas el nombre del archivo\n",
    "#NO TOCAR\n",
    "from IPython.display import Video\n",
    "Video(nombre_archivo_video)"
   ]
  },
  {
   "cell_type": "markdown",
   "metadata": {},
   "source": [
    "**Foto lámina 1**"
   ]
  },
  {
   "cell_type": "code",
   "execution_count": 0,
   "metadata": {},
   "outputs": [],
   "source": [
    "nombre_fichero_imagen=\"prueba.jpg\"  # Incluir el nombre completo con extensión del fichero imagen dentro de las comillas\n",
    "#NO TOCAR\n",
    "from IPython.core.display import Image,display\n",
    "Image(filename=nombre_fichero_imagen,width=600)"
   ]
  },
  {
   "cell_type": "markdown",
   "metadata": {},
   "source": [
    "**Foto lámina y alumno 1**"
   ]
  },
  {
   "cell_type": "code",
   "execution_count": 0,
   "metadata": {},
   "outputs": [],
   "source": [
    "nombre_fichero_imagen=\"prueba.jpg\"  # Incluir el nombre completo con extensión del fichero imagen dentro de las comillas\n",
    "#NO TOCAR\n",
    "from IPython.core.display import Image,display\n",
    "Image(filename=nombre_fichero_imagen,width=600)"
   ]
  },
  {
   "cell_type": "markdown",
   "metadata": {},
   "source": [
    "### Lámina delgada 2"
   ]
  },
  {
   "cell_type": "markdown",
   "metadata": {},
   "source": [
    "**Vídeo 2**"
   ]
  },
  {
   "cell_type": "code",
   "execution_count": 0,
   "metadata": {},
   "outputs": [],
   "source": [
    "nombre_archivo_video = \"polariscopiolineal.mkv\" #escribir entre las comillas el nombre del archivo\n",
    "#NO TOCAR\n",
    "from IPython.display import Video\n",
    "Video(nombre_archivo_video)"
   ]
  },
  {
   "cell_type": "markdown",
   "metadata": {},
   "source": [
    "**Foto lámina 2**"
   ]
  },
  {
   "cell_type": "code",
   "execution_count": 0,
   "metadata": {},
   "outputs": [],
   "source": [
    "nombre_fichero_imagen=\"prueba.jpg\"  # Incluir el nombre completo con extensión del fichero imagen dentro de las comillas\n",
    "#NO TOCAR\n",
    "from IPython.core.display import Image,display\n",
    "Image(filename=nombre_fichero_imagen,width=600)"
   ]
  },
  {
   "cell_type": "markdown",
   "metadata": {},
   "source": [
    "**Foto lámina y alumno 2**"
   ]
  },
  {
   "cell_type": "code",
   "execution_count": 0,
   "metadata": {},
   "outputs": [],
   "source": [
    "nombre_fichero_imagen=\"prueba.jpg\"  # Incluir el nombre completo con extensión del fichero imagen dentro de las comillas\n",
    "#NO TOCAR\n",
    "from IPython.core.display import Image,display\n",
    "Image(filename=nombre_fichero_imagen,width=600)"
   ]
  },
  {
   "cell_type": "markdown",
   "metadata": {},
   "source": [
    "### Lámina delgada 3"
   ]
  },
  {
   "cell_type": "markdown",
   "metadata": {},
   "source": [
    "**Vídeo 3**"
   ]
  },
  {
   "cell_type": "code",
   "execution_count": 0,
   "metadata": {},
   "outputs": [],
   "source": [
    "nombre_archivo_video = \"polariscopiolineal.mkv\" #escribir entre las comillas el nombre del archivo\n",
    "#NO TOCAR\n",
    "from IPython.display import Video\n",
    "Video(nombre_archivo_video)"
   ]
  },
  {
   "cell_type": "markdown",
   "metadata": {},
   "source": [
    "**Foto lámina 3**"
   ]
  },
  {
   "cell_type": "code",
   "execution_count": 0,
   "metadata": {},
   "outputs": [],
   "source": [
    "nombre_fichero_imagen=\"prueba.jpg\"  # Incluir el nombre completo con extensión del fichero imagen dentro de las comillas\n",
    "#NO TOCAR\n",
    "from IPython.core.display import Image,display\n",
    "Image(filename=nombre_fichero_imagen,width=600)"
   ]
  },
  {
   "cell_type": "markdown",
   "metadata": {},
   "source": [
    "**Foto lámina y alumno 3**"
   ]
  },
  {
   "cell_type": "code",
   "execution_count": 0,
   "metadata": {},
   "outputs": [],
   "source": [
    "nombre_fichero_imagen=\"prueba.jpg\"  # Incluir el nombre completo con extensión del fichero imagen dentro de las comillas\n",
    "#NO TOCAR\n",
    "from IPython.core.display import Image,display\n",
    "Image(filename=nombre_fichero_imagen,width=600)"
   ]
  },
  {
   "cell_type": "markdown",
   "metadata": {},
   "source": [
    "### Lámina delgada 4"
   ]
  },
  {
   "cell_type": "markdown",
   "metadata": {},
   "source": [
    "**Vídeo 4**"
   ]
  },
  {
   "cell_type": "code",
   "execution_count": 0,
   "metadata": {},
   "outputs": [],
   "source": [
    "nombre_archivo_video = \"polariscopiolineal.mkv\" #escribir entre las comillas el nombre del archivo\n",
    "#NO TOCAR\n",
    "from IPython.display import Video\n",
    "Video(nombre_archivo_video)"
   ]
  },
  {
   "cell_type": "markdown",
   "metadata": {},
   "source": [
    "**Foto lámina 4**"
   ]
  },
  {
   "cell_type": "code",
   "execution_count": 0,
   "metadata": {},
   "outputs": [],
   "source": [
    "nombre_fichero_imagen=\"prueba.jpg\"  # Incluir el nombre completo con extensión del fichero imagen dentro de las comillas\n",
    "#NO TOCAR\n",
    "from IPython.core.display import Image,display\n",
    "Image(filename=nombre_fichero_imagen,width=600)"
   ]
  },
  {
   "cell_type": "markdown",
   "metadata": {},
   "source": [
    "**Foto lámina y alumno 4**"
   ]
  },
  {
   "cell_type": "code",
   "execution_count": 0,
   "metadata": {},
   "outputs": [],
   "source": [
    "nombre_fichero_imagen=\"prueba.jpg\"  # Incluir el nombre completo con extensión del fichero imagen dentro de las comillas\n",
    "#NO TOCAR\n",
    "from IPython.core.display import Image,display\n",
    "Image(filename=nombre_fichero_imagen,width=600)"
   ]
  },
  {
   "cell_type": "markdown",
   "metadata": {},
   "source": [
    "### Lámina delgada 5"
   ]
  },
  {
   "cell_type": "markdown",
   "metadata": {},
   "source": [
    "**Vídeo 5**"
   ]
  },
  {
   "cell_type": "code",
   "execution_count": 0,
   "metadata": {},
   "outputs": [],
   "source": [
    "nombre_archivo_video = \"polariscopiolineal.mkv\" #escribir entre las comillas el nombre del archivo\n",
    "#NO TOCAR\n",
    "from IPython.display import Video\n",
    "Video(nombre_archivo_video)"
   ]
  },
  {
   "cell_type": "markdown",
   "metadata": {},
   "source": [
    "**Foto lámina 5**"
   ]
  },
  {
   "cell_type": "code",
   "execution_count": 0,
   "metadata": {},
   "outputs": [],
   "source": [
    "nombre_fichero_imagen=\"prueba.jpg\"  # Incluir el nombre completo con extensión del fichero imagen dentro de las comillas\n",
    "#NO TOCAR\n",
    "from IPython.core.display import Image,display\n",
    "Image(filename=nombre_fichero_imagen,width=600)"
   ]
  },
  {
   "cell_type": "markdown",
   "metadata": {},
   "source": [
    "**Foto lámina y alumno 5**"
   ]
  },
  {
   "cell_type": "code",
   "execution_count": 0,
   "metadata": {},
   "outputs": [],
   "source": [
    "nombre_fichero_imagen=\"prueba.jpg\"  # Incluir el nombre completo con extensión del fichero imagen dentro de las comillas\n",
    "#NO TOCAR\n",
    "from IPython.core.display import Image,display\n",
    "Image(filename=nombre_fichero_imagen,width=600)"
   ]
  },
  {
   "cell_type": "markdown",
   "metadata": {},
   "source": [
    "## Cuestión 2\n",
    "\n",
    "**Pregunta 2.1** Dar con detalle una explicación de cómo se forman los colores observados."
   ]
  },
  {
   "cell_type": "markdown",
   "metadata": {},
   "source": [
    "*Editar esta línea haciendo doble click en ella para contestar a la pregunta*"
   ]
  },
  {
   "cell_type": "markdown",
   "metadata": {},
   "source": [
    "**Pregunta 2.2** ¿Qué tipo de franjas se observan (de igual espesor, de igual inclinación)? Justificar la respuesta"
   ]
  },
  {
   "cell_type": "markdown",
   "metadata": {},
   "source": [
    "*Editar esta línea haciendo doble click en ella para contestar a la pregunta*"
   ]
  },
  {
   "cell_type": "markdown",
   "metadata": {},
   "source": [
    "**Pregunta 2.3** ¿Por qué se emplea una cartulina de color negra? Justificar la respuesta"
   ]
  },
  {
   "cell_type": "markdown",
   "metadata": {},
   "source": [
    "*Editar esta línea haciendo doble click en ella para contestar a la pregunta*"
   ]
  },
  {
   "cell_type": "markdown",
   "metadata": {},
   "source": [
    "**Pregunta 2.4** ¿Qué espesor aproximadamente tienen las láminas? Justificar la respuesta"
   ]
  },
  {
   "cell_type": "markdown",
   "metadata": {},
   "source": [
    "*Editar esta línea haciendo doble click en ella para contestar a la pregunta*"
   ]
  },
  {
   "cell_type": "code",
   "execution_count": 0,
   "metadata": {},
   "outputs": [],
   "source": []
  }
 ],
 "metadata": {
  "kernelspec": {
   "display_name": "Python 3",
   "language": "python",
   "name": "python3"
  },
  "language_info": {
   "codemirror_mode": {
    "name": "ipython",
    "version": 3
   },
   "file_extension": ".py",
   "mimetype": "text/x-python",
   "name": "python",
   "nbconvert_exporter": "python",
   "pygments_lexer": "ipython3",
   "version": "3.7.13"
  },
  "latex_envs": {
   "bibliofile": "biblio.bib",
   "cite_by": "apalike",
   "current_citInitial": 1,
   "eqLabelWithNumbers": true,
   "eqNumInitial": 0
  }
 },
 "nbformat": 4,
 "nbformat_minor": 4
}
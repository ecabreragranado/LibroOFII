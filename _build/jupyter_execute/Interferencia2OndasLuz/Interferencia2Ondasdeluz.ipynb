{
 "cells": [
  {
   "cell_type": "markdown",
   "metadata": {},
   "source": [
    "# Interferencia de dos ondas de luz"
   ]
  },
  {
   "cell_type": "markdown",
   "metadata": {},
   "source": [
    "## Teoría\n",
    "\n",
    "Cuando a una misma región del espacio llegan dos ondas de luz (ondas electromagnéticas) la onda resultante será la superposición (suma) de ambas. Antes de empezar recordamos algunas características particulares de este tipo de ondas.\n",
    "\n",
    "* Las ondas electromagnéticas poseen **polarización**, es decir, la vibración ocurre en una dirección.\n",
    "\n",
    "* Lo que se mide es la irradiancia de la onda. Esta magnitud es proporcional al cuadrado de la amplitud, y al variar periódicamente en el tiempo de forma muy rápida ($\\sim$ 1-10 fs), lo que nosotros (nuestro ojo) o cualquier otro detector ve es un promedio temporal de dicha magnitud. Teniendo en cuenta que el promedio temporal del coseno al cuadrado es un medio: $< \\sin^2(\\omega t)> = <\\cos^2(\\omega t)> =  1/2$ tendremos\n",
    "\n",
    "\n",
    "$$ I = \\epsilon_0 c n < \\vec{E}^2>_{tiempo} =  \\epsilon_0 c n E_0^2 < \\cos^2(\\vec{k} \\vec{r} - \\omega t + \\phi) >  = \\frac{1}{2} \\epsilon_0 c n E_0^2   $$\n",
    "\n",
    "\n",
    "Vamos a describir a continuación la **interferencia de dos ondas electromagnéticas planas, polarizadas linealmente y monocromáticas**\n",
    "\n",
    "Los campos eléctricos asociados a cada onda serán:\n",
    "\n",
    "$$\\vec{E_1}(\\vec{r},t) = E_{01} \\vec{e_{1}} \\cos(\\vec{k_1} \\vec{r} - \\omega t + \\phi_1) $$\n",
    "$$\\vec{E_2}(\\vec{r},t) = E_{02} \\vec{e_{2}} \\cos(\\vec{k_2}\\vec{r} - \\omega t + \\phi_2) $$\n",
    "\n",
    "donde $\\vec{e_{j}}$ es un vector unitario indicando la dirección de vibración del campo y $\\phi_j$ es un fase inicial del campo.\n",
    "\n",
    "\n",
    "El campo total será $\\vec{E_T} = \\vec{E_1} + \\vec{E_2}$ , y por tanto la irradiancia total $I_T = \\epsilon_0 c n <\\vec{E_T}^2>$.\n",
    "\n",
    "$$I_T = \\epsilon_0 c n <(\\vec{E_1} + \\vec{E_2})^2> =  \\epsilon_0 c n <\\vec{E_1}^2> +  \\epsilon_0 c n <\\vec{E_2}^2> +  2 \\epsilon_0 c n <\\vec{E_1} \\cdot \\vec{E_2}>$$\n",
    "\n",
    "En los anteriores términos, podemos reconocer las irradiancias de las dos ondas,\n",
    "\n",
    "$$I_1 = \\epsilon_0 c n <\\vec{E_1}^2> = \\frac{1}{2} \\epsilon_0 c n E_{01}^2 $$\n",
    "$$I_2 = \\epsilon_0 c n <\\vec{E_2}^2> = \\frac{1}{2} \\epsilon_0 c n E_{02}^2 $$\n",
    "\n",
    "mientras que el último término se conoce como **término de interferencia** y será el responsable de los nuevos fenómenos.\n",
    "\n",
    "$$  2 \\epsilon_0 c n <\\vec{E_1} \\cdot \\vec{E_2}> =  2 \\epsilon_0 c n  E_{01}E_{02} (\\vec{e_{1}}\\cdot\\vec{e_{2}})  < \\cos(\\vec{k_1} \\vec{r} - \\omega t + \\phi_1) \\cos(\\vec{k_2}\\vec{r} - \\omega t + \\phi_2) >  $$\n",
    "\n",
    "Como no sabemos calcular el promedio temporal del producto de dos cosenos usamos la siguiente relación trigonométrica $2\\cos(A)\\cos(B)=\\cos(A+B)+\\cos(A-B)$.\n",
    "\n",
    "$$ 2 \\epsilon_0 c n <\\vec{E_1} \\cdot \\vec{E_2}> =  2 \\epsilon_0 c n  E_{01}E_{02} (\\vec{e_{1}}\\cdot\\vec{e_{2}}) \\frac{1}{2}  < \\cos(\\vec{k_1} \\vec{r} + \\vec{k_2}\\vec{r} - 2 \\omega t + \\phi_1 + \\phi_2)  + \\cos(\\vec{k_1} \\vec{r} - \\vec{k_2}\\vec{r}   + \\phi_1 - \\phi_2) > $$\n",
    "\n",
    "El primer término del promedio temporal oscila rápidamente (a la frecuencia 2$\\omega$) entre -1 y 1 y por tanto su promedio será nulo. El segundo término, que es el coseno de la resta de las fases de las dos ondas, no varía en el tiempo y por tanto su promedio temporal será él mismo. Hemos asumido que las fases iniciales de  los campos que interfieren no  varian en el tiempo, ya que esto impediría ver las interferencias. Esta característica se denomina *coherencia* y la veremos desarrollada más adelante en el curso. Por tanto, el término de interferencia queda de la siguiente forma:\n",
    "\n",
    "\n",
    "$$ 2 \\epsilon_0 c n <\\vec{E_1} \\cdot \\vec{E_2}> =  2 \\epsilon_0 c n E_{01}E_{02} (\\vec{e_{1}}\\cdot\\vec{e_{2}}) \\frac{1}{2}  \\cos[ (\\vec{k_1} -  \\vec{k_2}) \\vec{r}   + \\phi_1 - \\phi_2]  $$\n",
    "\n",
    "Por último podemos escribir el término de interferencia en función de las irradiancias de las ondas:\n",
    "\n",
    "$$ 2 \\epsilon_0 c n <\\vec{E_1} \\cdot \\vec{E_2}> =  2 \\sqrt{\\frac{1}{2} \\epsilon_0 c n E_{01}^2} \\sqrt{\\frac{1}{2} \\epsilon_0 c n E_{02}^2} (\\vec{e_{1}}\\cdot\\vec{e_{2}})  \\cos[ (\\vec{k_1} -  \\vec{k_2}) \\vec{r}   + \\phi_1 - \\phi_2]  =  2 \\sqrt{I_1 I_2} (\\vec{e_{1}}\\cdot\\vec{e_{2}})  \\cos[ (\\vec{k_1} -  \\vec{k_2}) \\vec{r}   + \\phi_1 - \\phi_2] $$\n",
    "\n",
    "Así llegamos a la siguiente expresión general de la irradiancia total:\n",
    "\n",
    "<div class=\"alert alert-success\">\n",
    "$$I_T = I_1 + I_2 + 2 \\sqrt{I_1 I_2} (\\vec{e_{1}}\\cdot\\vec{e_{2}})  \\cos(\\delta)$$\n",
    "</div>\n",
    "\n",
    "donde $\\delta$ es la **diferencia de fase o desfase** (resta) entre las dos ondas que interfieren.\n",
    "\n",
    "\n",
    "\n",
    "\n",
    "De la anterior expresión podemos extraer varias conclusiones:\n",
    "\n",
    "* El término de interferencia depende de las polarizaciones de las dos ondas a través del *producto escalar* $\\vec{e_{1}}\\cdot\\vec{e_{2}}$. Es decir, **si las dos ondas se encuentran polarizadas perpendicularmente no interfieren**.\n",
    "\n",
    "* El término de interferencia será positivo cuando el coseno sea positivo y por tanto la irradiancia total será mayor que las suma de las dos irradiancias. También podrá ser negativo cuando el coseno sea negativo y la irradiancia total será menor que la suma de las dos irradiancias. Por ello diremos que la interferencia puede ser **constructiva o destructiva**.\n",
    "\n",
    "* El parámetro clave en el término de interferencia es el **desfase entre las ondas** $\\delta$, que incorpora todos los desfases que hayan sufrido las ondas (por reflexión, etc) y sobre todo por haber recorrido distinto camino óptico. Es decir, para llegar a una región del espacio cada una de las dos ondas recorrerá un camino óptico diferente lo cuál provocará una diferencia de fase. Lo interesante es que esta **diferencia de camino óptico** cambiará al fijarnos en otro punto del espacio. Y al variar el defase cambiará el valor del término de interferencia y  por tanto el de la irradiancia total. Esto significa que espacialmente veremos una variación de la irradiancia provocada por la interferencia. En unas zonas del espacio veremos más irradiancia a cambio de tener menos en otras, siendo este el resultado fundamental de las interferencias, **la redistribución espacial de la energía**."
   ]
  },
  {
   "cell_type": "markdown",
   "metadata": {},
   "source": [
    "## Preguntas y cuestiones\n",
    "\n",
    "Vamos a ver un ejemplo de la variación de la irradiancia total con el desfase entre las dos ondas. Para ello hay que ejecutar la siguiente celda de código. Pinchar sobre la celda de código y luego ejecutar con el botón Run del menú superior. En la parte superior de la celda se encuentran los parámetros que podéis cambiar, son las irradiancias de las dos ondas y el producto escalar de los vectores de polarización."
   ]
  },
  {
   "cell_type": "code",
   "execution_count": 1,
   "metadata": {},
   "outputs": [
    {
     "data": {
      "image/png": "[encoded data removed]",
      "text/plain": [
       "<Figure size 432x288 with 1 Axes>"
      ]
     },
     "metadata": {
      "filenames": {
       "image/png": "/home/edu/docencia/OFII/LibroOFII/_build/jupyter_execute/Interferencia2OndasLuz/Interferencia2Ondasdeluz_3_0.png"
      }
     },
     "output_type": "display_data"
    }
   ],
   "source": [
    "#####################################################\n",
    "# PUEDES CAMBIAR LOS VALORES DE LAS DOS IRRADIANCIAS\n",
    "###################################################\n",
    "I_1 = 1\n",
    "I_2 = 1\n",
    "e1e2 = 1\n",
    "#################################\n",
    "# NO TOCAR LO SIGUIENTE\n",
    "###############################\n",
    "from numpy import *\n",
    "from matplotlib.pyplot import *\n",
    "style.use('fivethirtyeight')\n",
    "delta = arange(0,8*pi,0.1)\n",
    "I_T = I_1 + I_2 + 2*e1e2*sqrt(I_1*I_2)*cos(delta)\n",
    "#fig = plt.figure(figsize=(10,6))\n",
    "plot(delta,I_T)\n",
    "ylim(-0.1,4.1)\n",
    "xlabel('$\\delta$ (rad.)')\n",
    "ylabel('I$_T$');"
   ]
  },
  {
   "cell_type": "markdown",
   "metadata": {},
   "source": [
    "Primero consideramos las dos irradiancias iguales a 1. Observando el resultado de la gráfica contestar a las siguientes cuestiones.\n",
    "\n",
    "* Viendo la forma descrita por la irradiancia total decir qué valores del desfase provocan máxima irradiancia.\n",
    "\n",
    "* Lo mismo que el caso anterior pero para la irradiancia mínima.\n",
    "\n",
    "Ahora modificamos en el código el valor de la irradiancia de una de las dos ondas. Por ejemplo cambiar $I_1=0.1$. Observar el resultado y contestar. \n",
    "\n",
    "* ¿Cambian las posiciones en las que aparecen los máximos y los mínimos?\n",
    "\n",
    "* ¿En qué cambia la figura?.\n",
    "\n",
    "\n",
    "Por último probamos a cambiar el ángulo formado por los vectores de polarización de las dos ondas, es decir e1e2. Las dos irradiancias las ponemos iguales a 1.\n",
    "\n",
    "* ¿Cómo cambia la figura si las polarizaciones forman 60 grados, es decir e1e2=0.5?\n",
    "\n",
    "* ¿Qué sucede si las polarizaciones son perpendiculares, es decir e1e2=0?."
   ]
  },
  {
   "cell_type": "markdown",
   "metadata": {},
   "source": [
    "## Otros recursos\n",
    "\n",
    "El siguiente video de Kahn Academy explica de una manera sencilla la interferencia de dos ondas. Puedes ver el video dentro de la celda o pinchar en YouTube para abrir otra ventana del navegador."
   ]
  },
  {
   "cell_type": "code",
   "execution_count": 2,
   "metadata": {},
   "outputs": [
    {
     "name": "stderr",
     "output_type": "stream",
     "text": [
      "/home/edu/anaconda3/lib/python3.7/site-packages/IPython/core/display.py:717: UserWarning: Consider using IPython.display.IFrame instead\n",
      "  warnings.warn(\"Consider using IPython.display.IFrame instead\")\n"
     ]
    },
    {
     "data": {
      "text/html": [
       "<iframe width=\"560\" height=\"315\" src=\"https://www.youtube.com/embed/H02ZBgrzkNU?rel=0&amp;controls=0&amp;showinfo=0\" frameborder=\"0\" allowfullscreen></iframe>"
      ],
      "text/plain": [
       "<IPython.core.display.HTML object>"
      ]
     },
     "execution_count": 2,
     "metadata": {},
     "output_type": "execute_result"
    }
   ],
   "source": [
    "from IPython.display import HTML\n",
    "HTML('<iframe width=\"560\" height=\"315\" src=\"https://www.youtube.com/embed/H02ZBgrzkNU?rel=0&amp;controls=0&amp;showinfo=0\" frameborder=\"0\" allowfullscreen></iframe>')"
   ]
  }
 ],
 "metadata": {
  "kernelspec": {
   "display_name": "Python 3",
   "language": "python",
   "name": "python3"
  },
  "language_info": {
   "codemirror_mode": {
    "name": "ipython",
    "version": 3
   },
   "file_extension": ".py",
   "mimetype": "text/x-python",
   "name": "python",
   "nbconvert_exporter": "python",
   "pygments_lexer": "ipython3",
   "version": "3.7.11"
  },
  "latex_envs": {
   "bibliofile": "biblio.bib",
   "cite_by": "apalike",
   "current_citInitial": 1,
   "eqLabelWithNumbers": true,
   "eqNumInitial": 0
  },
  "name": "Interferencia2Ondas.ipynb"
 },
 "nbformat": 4,
 "nbformat_minor": 4
}
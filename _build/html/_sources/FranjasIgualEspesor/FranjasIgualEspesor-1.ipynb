{
 "cells": [
  {
   "cell_type": "markdown",
   "metadata": {},
   "source": [
    "# Franjas de igual espesor\n",
    "\n",
    "<center>\n",
    "<img src=\"thinfilmsoap.gif\" height=300px style=\"max-width:60%\">\n",
    "</center>"
   ]
  },
  {
   "cell_type": "markdown",
   "metadata": {},
   "source": [
    "  Hasta ahora hemos visto la interferencia entre las ondas reflejadas o transmitidas en una lámina planoparalela, es decir, una lámina cuyas caras son paralelas y por tanto tiene un espesor o grosor fijo $h$. Si $n$ es el índice de refracción de la lámina y $\\theta_t$ el ángulo transmitido o refractado en la primera cara, el desfase debido a la diferencia de camino entre ambas ondas (desfase geometrico $\\delta_G$) es, \n",
    "\n",
    "$$\\delta_G = \\frac{2\\pi}{\\lambda} 2 h n \\cos(\\theta_t)$$\n",
    "\n",
    "Si la lámina no tiene ambas caras paralelas y su grosor varia localmente, entonces puede ocurrir que diferentes rayos se solapen en algún punto cercano a la superficie (punto P en la figura). Para tratar este problema, consideraremos que ambas caras no se alejan mucho de ser paralelas entre si. En ese caso, podemos considerar el desfase geométrico entre las ondas que interfieren como, \n",
    "\n",
    "$$\\delta_G = \\frac{2\\pi}{\\lambda} 2 h n \\overline{\\cos(\\theta_t)}$$\n",
    "\n",
    "\n",
    "<center>\n",
    "    \n",
    "![imagenFizeau](imagenfizeau3.png)\n",
    "\n",
    "</center>\n",
    "donde ahora $\\overline{\\cos(\\theta_t)}$ es un promedio de esos valores de $\\theta_t$ para los rayos que llegan al punto P. Normalmente se observa en ángulos cercanos a cero, es decir, normal a la superficie y por tanto $\\overline{\\cos(\\theta_t)} \\sim 1$, entonces, \n",
    "\n",
    "$$\\delta_G = \\frac{2\\pi}{\\lambda} 2 h n$$\n",
    "\n",
    "es decir, el desfase irá cambiando a medida que cambia el espesor de la lámina, e irán apareciendo los máximos y mínimos de luz. Es por eso que a este tipo de franjas se les denomina **franjas de igual espesor** (o *franjas de Fizeau*). Este tipo de franjas podemos verlas fácilmente en la superficie de las pompas de jabón. \n",
    "\n",
    "Hay que notar que, si el tipo de interferencia (constructiva o destructiva) y por tanto que aparezcan máximos o mínimos depende del grosor de la lámina en ese punto, el diagrama interferencial se convierte en este caso en un mapa de alturas o curvas de nivel, que nos indican cómo varía la altura de la lámina espacialmente. Es decir, donde se mantenga el espesor de la lámina el resultado de la interferencia será el mismo.\n",
    "\n",
    "Nosotros vamos a centrarnos en dos casos: Una cuña y una superficie curva en contacto con otra plana (Anillos de Newton).\n",
    "\n"
   ]
  },
  {
   "cell_type": "markdown",
   "metadata": {},
   "source": [
    "## Interferencias en una cuña"
   ]
  },
  {
   "cell_type": "markdown",
   "metadata": {},
   "source": [
    "Una cuña es la lámina comprendida entre dos superficies planas que forman un ángulo $\\alpha$ entre si. Consideraremos que este ángulo es muy pequeño, por lo que podremos seguir utilizando la siguiente expresión para el desfase geométrico entre las ondas que se reflejan en ambas caras de la lámina:\n",
    "\n",
    "$$\\delta_G = \\frac{2 \\pi}{\\lambda} 2 h n$$\n",
    "\n",
    "donde el espesor $h$ varía a lo largo de la cuña y $n$ es su índice de refracción.\n",
    "Para calcular el desfase total tenemos que considerar el desfase debido a las reflexiones de las ondas. Este desfase hay que analizarlo en cada caso particular. En lo que resta de este documento vamos a considerar dos posibles casos de cuñas, y en ambos tendremos que añadir un desfase adicional de $\\pi$ rad ($\\delta_R = \\pi$ rad) debido a la reflexiones.\n",
    "\n",
    "Estos casos que vamos a considerar son los siguientes:\n",
    "\n",
    "1. Cuña formada por dos bloques de vidrio que forman un cierto ángulo $\\alpha$. Se trata de la capa de aire que queda encerrada entre ambos vidrios. En este caso, las ondas que interfieren, en reflexión, son las reflejadas en la segunda cara del bloque superior de vidrio, y en la primera cara del bloque inferior de vidrio.\n",
    "\n",
    "<center>\n",
    "\n",
    "![figura](wedgeglassblocks2.png)\n",
    "\n",
    "</center>\n",
    "\n",
    "2. Cuña formada por un material dieléctrico de índice de refracción $n$ rodeada de aire.\n",
    "\n",
    "En el caso de una lámina en forma de cuña, el espesor de la lámina $h$ aumenta de forma lineal con la distancia al vértice $x$, es decir,\n",
    "\n",
    "$$h = x \\tan(\\alpha) \\simeq x \\alpha$$\n",
    "\n",
    "\n",
    "### Máximos y mínimos de interferencia.\n",
    "\n",
    "En ambos casos planteados, el desfase total entre las ondas que participan en la interferencia es, \n",
    "\n",
    "$$\\delta_{tot} = \\delta_G + \\delta_R = \\frac{2 \\pi}{\\lambda} 2 h n + \\pi$$\n",
    "\n",
    "Los maximos y minimos de interferencia se obtendrán cuando:\n",
    "\n",
    "* Máximos: $\\delta_{tot} = 2 m \\pi$ rad\n",
    "\n",
    "* Mínimos: $\\delta_{tot} = (2 m + 1) \\pi$ rad.\n",
    "\n",
    "Centrándonos en los mínimos de luz, podemos buscar los grosores de la lámina que nos dan mínimos de interferencia:\n",
    "\n",
    "<div class=\"alert alert-block alert-success\">\n",
    "\n",
    "$$\\frac{2 \\pi}{\\lambda} 2 h_{min} n + \\pi = (2 m +1) \\pi \\Rightarrow h_{min} = \\frac{m \\lambda}{ 2 n}$$\n",
    "\n",
    "</div>\n",
    "\n",
    "Estas alturas se pueden pasar a distancias desde el vértice, teniendo en cuenta la relación entre $x$ y $h$ expresada anteriormente, \n",
    "\n",
    "<div class=\"alert alert-block alert-success\">\n",
    "\n",
    "$$h_{min} = \\frac{m \\lambda}{ 2 n} \\Rightarrow x_{min} = \\frac{m \\lambda}{2 n \\tan(\\alpha)} \\sim  x_{min} = \\frac{m \\lambda}{2 n \\alpha} $$\n",
    "\n",
    "</div>\n",
    "\n",
    "De la expresión anterior vemos que el diagrama interferencial se compone de máximos y mínimos equiespaciados, de modo que, mirando a la cuña desde arriba, veríamos unas franjas de interferencia, donde en el vértice ($x=0$ y $h = 0$) tendremos un mínimo de interferencia, y la distancia entre mínimos (o máximos), que denominamos *Interfranja* es, \n",
    "\n",
    "<div class=\"alert alert-block alert-info\">\n",
    "\n",
    "$$Int = \\frac{\\lambda}{2 n \\tan(\\alpha)} \\sim  \\frac{\\lambda}{2 n \\alpha} $$\n",
    "\n",
    "</div>\n",
    "\n",
    "Hay que hacer nota en que $n$ es el índice de la cuña. En el caso de estar formada por dos bloques de vidrio, la cuña estaría formada por aire, por lo que en ese caso $n = 1$\n"
   ]
  },
  {
   "cell_type": "markdown",
   "metadata": {},
   "source": [
    "----\n",
    "La siguiente celda de código genera una figura interactiva donde se puede ver el efecto en el diagrama interferencial de cambiar, tanto el índice de la lámina, como el ángulo $\\alpha$ de la cuña. \n",
    "\n",
    "Como sugerencia, \n",
    "\n",
    "* Cambiar el valor de $n$ y $\\alpha$ para ver como cambia la interfranja.\n",
    "\n",
    "* Aparece un mínimo de luz en el vértice de la cuña. ¿Depende del valor de $\\alpha$ o del valor de $n$?\n",
    "\n",
    "* Aparte de modificar los valores de $n$ y $\\alpha$ en la siguiente celda, demostrar, a partir de la condición de mínimo para el desfase total, que la diferencia de camino en **los minimos** de interferencias es igual a $m\\lambda$ (a diferencia de lo que ocurría en el Experimento de Young, donde este valor de la diferencia de camino ocurría en los máximos de interferencia. Este cambio ocurre por la presencia del desfase de $\\pi$ adicional debido a las reflexiones)."
   ]
  },
  {
   "cell_type": "code",
   "execution_count": 1,
   "metadata": {},
   "outputs": [
    {
     "data": {
      "application/vnd.jupyter.widget-view+json": {
       "model_id": "141db2ba261e4ae19960f3b1879b7f03",
       "version_major": 2,
       "version_minor": 0
      },
      "text/plain": [
       "interactive(children=(FloatSlider(value=1.525, description='n', max=2.0, min=1.05), FloatSlider(value=0.0025, …"
      ]
     },
     "execution_count": 1,
     "metadata": {},
     "output_type": "execute_result"
    }
   ],
   "source": [
    "import numpy as np\n",
    "import ipywidgets as widgets\n",
    "import matplotlib.pyplot as plt\n",
    "\n",
    "\n",
    "Lambda = 4.1e-7\n",
    "n = 1.45\n",
    "alpha = 2*np.pi/180\n",
    "D = 0.1e-2\n",
    "r = (n-1)/(1+n)\n",
    "t = 2/(1+n)\n",
    "tp = 2*n/(1+n)\n",
    "I0 = 1\n",
    "I1 = I0*r**2\n",
    "I2 = I0*(t*r*tp)**2\n",
    "\n",
    "def fun(n,alpha):\n",
    "    fig = plt.figure(figsize=(16,7))\n",
    "    fig.tight_layout()\n",
    "    x = np.linspace(0,D,400)\n",
    "    y = np.linspace(0,D/2,20)\n",
    "    X,Y = np.meshgrid(x,y)\n",
    "    h = X*np.tan(alpha)\n",
    "    deltag = 4*np.pi*n*h/Lambda\n",
    "    deltatot = deltag + np.pi\n",
    "    Itot = I1 + I2 + 2*np.sqrt(I1*I2)*np.cos(deltatot)\n",
    "    plt.subplot(2,2,2)\n",
    "    plt.pcolormesh(X,Y,Itot,cmap='gray',shading='auto')\n",
    "    plt.title('Patrón de franjas',fontsize=16)\n",
    "    plt.axis('off')\n",
    "    plt.subplot(2,2,1)\n",
    "    plt.hlines(0, 0, D,linewidth=2)\n",
    "    plt.vlines(D,0,D*np.tan(alpha),linewidth=2,color='black')\n",
    "    x = np.linspace(0,D,150)\n",
    "    plt.plot(x,x*np.tan(alpha),color = 'black',linewidth=2)\n",
    "    plt.title('Cuña',fontsize=16)\n",
    "    plt.ylim(-1.5e-5,1e-5)\n",
    "    plt.xlim(0,D)\n",
    "    plt.annotate(r'$\\alpha$',(D/3,0.000001),fontsize=18)\n",
    "    plt.axis('off')\n",
    "    plt.subplot(2,2,4)\n",
    "    npointsinter = 14\n",
    "    Int = Lambda/(2*n*alpha)\n",
    "    N = int((D/Int)*npointsinter)\n",
    "    x = np.linspace(0,D,N)\n",
    "    h = x*np.tan(alpha)\n",
    "    deltag = 4*np.pi*n*h/Lambda\n",
    "    deltatot = deltag + np.pi\n",
    "    Itotx = I1 + I2 + 2*np.sqrt(I1*I2)*np.cos(deltatot)\n",
    "    plt.plot(x,Itotx,color = 'gray',linewidth=2)\n",
    "    plt.text(D/3,-0.1,\"Interfranja =\"+ str(np.round(Int*1000,4))+' mm',fontsize=14)\n",
    "    plt.title('Perfil de irradiancia',fontsize=16)\n",
    "    plt.ylim(-0.2,0.2)\n",
    "    plt.xlim(0,D)\n",
    "    plt.axis('off')\n",
    "    plt.show()\n",
    "                     \n",
    "                     \n",
    "    \n",
    "interactive_plot = widgets.interactive(fun, n=(1.05, 2.0),  alpha=(5e-4, 5e-3, 5e-4))\n",
    "interactive_plot.children[1].readout_format='.4f'\n",
    "output = interactive_plot.children[-1]\n",
    "output.layout.height = '400px'\n",
    "\n",
    "display(interactive_plot)   "
   ]
  },
  {
   "cell_type": "markdown",
   "metadata": {},
   "source": [
    "### Efecto de una longitud de coherencia $l_c$ finita (fuente cuasimonocromática)\n",
    "\n",
    "\n",
    "Si la radiación que ilumina la cuña no es monocromática, y por tanto, posee una cierta anchura espectral $\\Delta \\lambda$, se define una longitud de coherencia \n",
    "\n",
    "\n",
    "$$l_c = \\frac{\\lambda_0^2}{\\Delta \\lambda}$$\n",
    "\n",
    "Esta longitud de coherencia fija una posición o distancia $x$ a partir de la cual no tendríamos interferencia y no veríamos máximos ni mínimos. En el caso de la cuña, la diferencia de camino en un punto cualquiera de la cuña es,\n",
    "\n",
    "$$\\Delta = 2 n h \\simeq 2 n x \\alpha$$\n",
    "\n",
    "Por tanto, vemos que a medida que nos alejamos del vértice (aumentamos $x$) también aumenta $h$ y a su vez, aumenta la diferencia de camino óptico $\\Delta$. Llegará un punto en el que $\\Delta$ será igual al valor de la longitud de coherencia $l_c$ y entonces, a partir de ese punto, no veremos interferencias, y la irradiancia total reflejada será $I_{tot} = I_1 + I_2$.\n",
    "\n",
    "El punto que separa la zona de interferencias de la zona en la que no se ven dichas interferencias cumple que, \n",
    "\n",
    "$$ \\Delta = l_c  \\Rightarrow  2 n x \\alpha = l_c $$\n",
    "\n",
    "$$ x \\sim \\frac{l_c}{2 n \\alpha}$$.\n",
    "\n",
    "\n",
    "-----\n",
    "\n",
    "Si se ejecuta la siguiente celda de código aparecerá una simulación para visualizar el efecto de aumentar la anchura espectral, o cambiar el valor de la longitud de onda central de iluminación cuando la radiación que incide en la cuña no es monocromática.\n",
    "\n",
    "* ¿Comprueba qué parámetros cambian la interfranja y/o la extensión del diagrama interferencial?\n",
    "\n",
    "* Con el valor de $lc$, ¿podrías calcular el valor de la altura correspondiente al borde donde acaba la zona de interferencia?"
   ]
  },
  {
   "cell_type": "code",
   "execution_count": 2,
   "metadata": {},
   "outputs": [
    {
     "data": {
      "application/vnd.jupyter.widget-view+json": {
       "model_id": "fa2009dccde64121b0a85e995f1d8c1f",
       "version_major": 2,
       "version_minor": 0
      },
      "text/plain": [
       "interactive(children=(IntSlider(value=60, description='Deltalambda', min=20, step=2), IntSlider(value=500, des…"
      ]
     },
     "execution_count": 2,
     "metadata": {},
     "output_type": "execute_result"
    }
   ],
   "source": [
    "\n",
    "import numpy as np\n",
    "import ipywidgets as widgets\n",
    "import matplotlib.pyplot as plt\n",
    "\n",
    "\n",
    "\n",
    "n = 1.45\n",
    "alpha = 2*np.pi/180\n",
    "D = 0.1e-2\n",
    "r = (n-1)/(1+n)\n",
    "t = 2/(1+n)\n",
    "tp = 2*n/(1+n)\n",
    "I0 = 1\n",
    "I1 = I0*r**2\n",
    "I2 = I0*(t*r*tp)**2\n",
    "\n",
    "\n",
    "def fun(Deltalambda,Lambda,alpha):\n",
    "    fig = plt.figure(figsize=(10,4))\n",
    "    x = np.linspace(0,D,500)\n",
    "    y = np.linspace(0,D/2,20)\n",
    "    X,Y = np.meshgrid(x,y)\n",
    "    h = X*np.tan(alpha)\n",
    "    Lambda = Lambda*1e-9\n",
    "    Deltalambda = Deltalambda*1e-9\n",
    "    lc = Lambda**2/Deltalambda\n",
    "    deltag = 4*np.pi*n*h/Lambda\n",
    "    deltatot = deltag + np.pi\n",
    "    Difcamino = 2*n*h\n",
    "    Itot = I1 + I2 + (2*np.sqrt(I1*I2)*np.cos(deltatot))*(Difcamino<lc)\n",
    "    Itot=Itot\n",
    "    plt.pcolormesh(X,Y,Itot,cmap='gray',shading='auto')\n",
    "    plt.text(D*1.05,D/2*1.05,'lc = '+str(np.round(lc*1e9,2))+' nm',fontsize=15)\n",
    "    plt.axis('off')\n",
    "    plt.show()\n",
    "                     \n",
    "\n",
    "    \n",
    "interactive_plot2 = widgets.interactive(fun, Deltalambda=(20,100,2),Lambda=(400,600,20),  alpha=(5e-4, 5e-3, 5e-4))\n",
    "interactive_plot2.children[2].readout_format='.4f'\n",
    "output = interactive_plot2.children[-1]\n",
    "output.layout.height = '600px'\n",
    "\n",
    "display(interactive_plot2)   "
   ]
  },
  {
   "cell_type": "markdown",
   "metadata": {},
   "source": [
    "## Vídeo lección virtual\n",
    "El siguiente vídeo muestra una explicación del tema de interferencias en láminas delgadas de espesor variable con forma de cuña"
   ]
  },
  {
   "cell_type": "code",
   "execution_count": 2,
   "metadata": {},
   "outputs": [
    {
     "data": {
      "text/html": [
       "<video src=\"LibroVirtual_LáminaEspesorVariable_cuña.mp4\" controls  >\n",
       "      Your browser does not support the <code>video</code> element.\n",
       "    </video>"
      ],
      "text/plain": [
       "<IPython.core.display.Video object>"
      ]
     },
     "execution_count": 2,
     "metadata": {},
     "output_type": "execute_result"
    }
   ],
   "source": [
    "nombre_archivo_video = \"LibroVirtual_LáminaEspesorVariable_cuña.mp4\"\n",
    "\n",
    "from IPython.display import Video\n",
    "Video(nombre_archivo_video)"
   ]
  }
 ],
 "metadata": {
  "kernelspec": {
   "display_name": "Python 3",
   "language": "python",
   "name": "python3"
  },
  "language_info": {
   "codemirror_mode": {
    "name": "ipython",
    "version": 3
   },
   "file_extension": ".py",
   "mimetype": "text/x-python",
   "name": "python",
   "nbconvert_exporter": "python",
   "pygments_lexer": "ipython3",
   "version": "3.7.11"
  },
  "latex_envs": {
   "bibliofile": "biblio.bib",
   "cite_by": "apalike",
   "current_citInitial": 1,
   "eqLabelWithNumbers": true,
   "eqNumInitial": 0
  }
 },
 "nbformat": 4,
 "nbformat_minor": 4
}

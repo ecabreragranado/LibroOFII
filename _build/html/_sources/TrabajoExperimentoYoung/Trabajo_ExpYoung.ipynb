{
 "cells": [
  {
   "cell_type": "markdown",
   "metadata": {},
   "source": [
    "# Experimento de Young. Trabajo en Grupo."
   ]
  },
  {
   "cell_type": "markdown",
   "metadata": {},
   "source": [
    "Durante el presente curso, hemos estudiado el experimento de Young (interferómetro de la doble rendija) como una forma de demostrar la naturaleza ondulatoria de la luz. Veamos si podemos reproducirlo mediante un experimento casero. Por tanto en este ejercicio tendréis que elegir los materiales necesarios, así como las distancias y tamaños óptimos para visualizar el patrón de interferencias, lo mostraréis en un vídeo que subiréis a vuestro espacio en CoCalc y enlazaréis directamente en este documento, y finalmente describiréis las observaciones así como las posibles vías de mejora.\n",
    "\n",
    "En primer lugar, consultando los documentos disponibles de clase así como la bibliografía del curso, tenéis que planificar el experimento justificando las elecciones realizadas, contestando a las siguientes preguntas.\n",
    "\n",
    "\n",
    "#### Cuestión 1\n",
    "\n",
    "Explicar, editando la siguiente celda de texto, qué elecciones se han hecho de materiales (fuente de luz, fuentes de Young, plano de observación del patrón de luz), así como las distancias entre los elementos más importantes del sistema."
   ]
  },
  {
   "cell_type": "markdown",
   "metadata": {},
   "source": [
    "*Editar esta línea haciendo doble click sobre ella para contestar a la pregunta*"
   ]
  },
  {
   "cell_type": "markdown",
   "metadata": {},
   "source": [
    "#### Cuestión 2\n",
    "\n",
    "Dar los valores, **estimados teóricamente**, de las siguientes magnitudes (nuevamente, hacer doble click con el ratón sobre cada item para responder). Incluir las expresiones empleadas y los valores de los parámetros empleados."
   ]
  },
  {
   "cell_type": "markdown",
   "metadata": {},
   "source": [
    "* **Interfranja** : *Escribir aquí editando esta línea*"
   ]
  },
  {
   "cell_type": "markdown",
   "metadata": {},
   "source": [
    "* **Longitud de coherencia de la fuente** : *Escribir aquí editando esta línea*"
   ]
  },
  {
   "cell_type": "markdown",
   "metadata": {},
   "source": [
    "* **Tamaño del patrón de franjas**: *Escribir aquí editando esta línea*"
   ]
  },
  {
   "cell_type": "markdown",
   "metadata": {},
   "source": [
    "#### Cuestión 3\n",
    "\n",
    "Grabar un vídeo que muestre lo siguiente:\n",
    "* el sistema construido\n",
    "* la mancha o patrón de luz obtenida, tanto si se observa un patrón de franjas como si no.\n",
    "* en algún momento del video deberá verse a alguno de los integrantes del grupo.\n",
    "Tras grabar el vídeo, subir el archivo a CoCalc, en la misma carpeta que el presente ejercicio. Esta subida del archivo de vídeo grabado se puede realizar pinchando en \"Files\" (icono de carpeta), al lado de \"+New\", en la parte superior izquierda de la página (letras de color azul), y a continuación en \"Upload\" (situado en la derecha). \n",
    "\n",
    "Una vez subido, editar la siguiente celda escribiendo entre las comillas el nombre del archivo (incluyendo la extensión)."
   ]
  },
  {
   "cell_type": "code",
   "execution_count": 2,
   "metadata": {
    "scrolled": true
   },
   "outputs": [
    {
     "data": {
      "text/html": [
       "<video src=\"polariscopiolineal.mp4\" controls  >\n",
       "      Your browser does not support the <code>video</code> element.\n",
       "    </video>"
      ],
      "text/plain": [
       "<IPython.core.display.Video object>"
      ]
     },
     "execution_count": 2,
     "metadata": {},
     "output_type": "execute_result"
    }
   ],
   "source": [
    "nombre_archivo_video = \"polariscopiolineal.mp4\" #escribir entre las comillas el nombre del archivo\n",
    "\n",
    "from IPython.display import Video\n",
    "Video(nombre_archivo_video)"
   ]
  },
  {
   "cell_type": "markdown",
   "metadata": {},
   "source": [
    "#### Cuestión 4\n",
    "\n",
    "A raíz del experimento realizado, comentar si se observa un patrón de franjas similar al típico patrón de franjas visto en clase. En caso contrario, si no conseguís ver un patrón de franjas, **explicar** a qué puede ser debido."
   ]
  },
  {
   "cell_type": "markdown",
   "metadata": {},
   "source": [
    "*Editar esta línea haciendo doble click en ella para contestar a la pregunta*"
   ]
  }
 ],
 "metadata": {
  "kernelspec": {
   "display_name": "Python 3",
   "language": "python",
   "name": "python3"
  },
  "language_info": {
   "codemirror_mode": {
    "name": "ipython",
    "version": 3
   },
   "file_extension": ".py",
   "mimetype": "text/x-python",
   "name": "python",
   "nbconvert_exporter": "python",
   "pygments_lexer": "ipython3",
   "version": "3.7.11"
  },
  "latex_envs": {
   "bibliofile": "biblio.bib",
   "cite_by": "apalike",
   "current_citInitial": 1,
   "eqLabelWithNumbers": true,
   "eqNumInitial": 0
  }
 },
 "nbformat": 4,
 "nbformat_minor": 4
}
